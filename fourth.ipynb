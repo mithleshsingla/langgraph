{
 "cells": [
  {
   "cell_type": "code",
   "execution_count": 1,
   "id": "c7dedf40",
   "metadata": {},
   "outputs": [],
   "source": [
    "from langchain_community.utilities import ArxivAPIWrapper,WikipediaAPIWrapper\n",
    "from langchain_community.tools import ArxivQueryRun,WikipediaQueryRun"
   ]
  },
  {
   "cell_type": "code",
   "execution_count": 43,
   "id": "e26f8281",
   "metadata": {},
   "outputs": [
    {
     "ename": "AttributeError",
     "evalue": "get",
     "output_type": "error",
     "traceback": [
      "\u001b[31m---------------------------------------------------------------------------\u001b[39m",
      "\u001b[31mAttributeError\u001b[39m                            Traceback (most recent call last)",
      "\u001b[36mCell\u001b[39m\u001b[36m \u001b[39m\u001b[32mIn[43]\u001b[39m\u001b[32m, line 4\u001b[39m\n\u001b[32m      2\u001b[39m Wikipedia_APIWrapper= WikipediaAPIWrapper(top_k_results=\u001b[32m1\u001b[39m,doc_content_chars_max=\u001b[32m250\u001b[39m)\n\u001b[32m      3\u001b[39m arxiv_tool= ArxivQueryRun(api_wrapper=Arxiv_APIWrapper, description=\u001b[33m\"\u001b[39m\u001b[33mquery arxiv papers\u001b[39m\u001b[33m\"\u001b[39m)\n\u001b[32m----> \u001b[39m\u001b[32m4\u001b[39m wikipedia_tool= \u001b[43mWikipediaQueryRun\u001b[49m\u001b[43m(\u001b[49m\u001b[43mapi_wrapper\u001b[49m\u001b[43m=\u001b[49m\u001b[43mWikipediaAPIWrapper\u001b[49m\u001b[43m)\u001b[49m\n",
      "\u001b[36mFile \u001b[39m\u001b[32mc:\\Users\\mithlesh singla\\AppData\\Local\\Programs\\Python\\Python311\\Lib\\site-packages\\langchain_core\\tools\\base.py:516\u001b[39m, in \u001b[36mBaseTool.__init__\u001b[39m\u001b[34m(self, **kwargs)\u001b[39m\n\u001b[32m    511\u001b[39m     msg = (\n\u001b[32m    512\u001b[39m         \u001b[33m\"\u001b[39m\u001b[33margs_schema must be a subclass of pydantic BaseModel or \u001b[39m\u001b[33m\"\u001b[39m\n\u001b[32m    513\u001b[39m         \u001b[33mf\u001b[39m\u001b[33m\"\u001b[39m\u001b[33ma JSON schema dict. Got: \u001b[39m\u001b[38;5;132;01m{\u001b[39;00mkwargs[\u001b[33m'\u001b[39m\u001b[33margs_schema\u001b[39m\u001b[33m'\u001b[39m]\u001b[38;5;132;01m}\u001b[39;00m\u001b[33m.\u001b[39m\u001b[33m\"\u001b[39m\n\u001b[32m    514\u001b[39m     )\n\u001b[32m    515\u001b[39m     \u001b[38;5;28;01mraise\u001b[39;00m \u001b[38;5;167;01mTypeError\u001b[39;00m(msg)\n\u001b[32m--> \u001b[39m\u001b[32m516\u001b[39m \u001b[38;5;28;43msuper\u001b[39;49m\u001b[43m(\u001b[49m\u001b[43m)\u001b[49m\u001b[43m.\u001b[49m\u001b[34;43m__init__\u001b[39;49m\u001b[43m(\u001b[49m\u001b[43m*\u001b[49m\u001b[43m*\u001b[49m\u001b[43mkwargs\u001b[49m\u001b[43m)\u001b[49m\n",
      "\u001b[36mFile \u001b[39m\u001b[32mc:\\Users\\mithlesh singla\\AppData\\Local\\Programs\\Python\\Python311\\Lib\\site-packages\\langchain_core\\load\\serializable.py:130\u001b[39m, in \u001b[36mSerializable.__init__\u001b[39m\u001b[34m(self, *args, **kwargs)\u001b[39m\n\u001b[32m    128\u001b[39m \u001b[38;5;28;01mdef\u001b[39;00m\u001b[38;5;250m \u001b[39m\u001b[34m__init__\u001b[39m(\u001b[38;5;28mself\u001b[39m, *args: Any, **kwargs: Any) -> \u001b[38;5;28;01mNone\u001b[39;00m:\n\u001b[32m    129\u001b[39m \u001b[38;5;250m    \u001b[39m\u001b[33;03m\"\"\"\"\"\"\u001b[39;00m  \u001b[38;5;66;03m# noqa: D419\u001b[39;00m\n\u001b[32m--> \u001b[39m\u001b[32m130\u001b[39m     \u001b[38;5;28;43msuper\u001b[39;49m\u001b[43m(\u001b[49m\u001b[43m)\u001b[49m\u001b[43m.\u001b[49m\u001b[34;43m__init__\u001b[39;49m\u001b[43m(\u001b[49m\u001b[43m*\u001b[49m\u001b[43margs\u001b[49m\u001b[43m,\u001b[49m\u001b[43m \u001b[49m\u001b[43m*\u001b[49m\u001b[43m*\u001b[49m\u001b[43mkwargs\u001b[49m\u001b[43m)\u001b[49m\n",
      "    \u001b[31m[... skipping hidden 1 frame]\u001b[39m\n",
      "\u001b[36mFile \u001b[39m\u001b[32mc:\\Users\\mithlesh singla\\AppData\\Local\\Programs\\Python\\Python311\\Lib\\site-packages\\langchain_community\\utilities\\wikipedia.py:37\u001b[39m, in \u001b[36mWikipediaAPIWrapper.validate_environment\u001b[39m\u001b[34m(cls, values)\u001b[39m\n\u001b[32m     34\u001b[39m \u001b[38;5;28;01mtry\u001b[39;00m:\n\u001b[32m     35\u001b[39m     \u001b[38;5;28;01mimport\u001b[39;00m\u001b[38;5;250m \u001b[39m\u001b[34;01mwikipedia\u001b[39;00m\n\u001b[32m---> \u001b[39m\u001b[32m37\u001b[39m     lang = \u001b[43mvalues\u001b[49m\u001b[43m.\u001b[49m\u001b[43mget\u001b[49m(\u001b[33m\"\u001b[39m\u001b[33mlang\u001b[39m\u001b[33m\"\u001b[39m, \u001b[33m\"\u001b[39m\u001b[33men\u001b[39m\u001b[33m\"\u001b[39m)\n\u001b[32m     38\u001b[39m     wikipedia.set_lang(lang)\n\u001b[32m     39\u001b[39m     values[\u001b[33m\"\u001b[39m\u001b[33mwiki_client\u001b[39m\u001b[33m\"\u001b[39m] = wikipedia\n",
      "\u001b[36mFile \u001b[39m\u001b[32mc:\\Users\\mithlesh singla\\AppData\\Local\\Programs\\Python\\Python311\\Lib\\site-packages\\pydantic\\_internal\\_model_construction.py:264\u001b[39m, in \u001b[36mModelMetaclass.__getattr__\u001b[39m\u001b[34m(self, item)\u001b[39m\n\u001b[32m    262\u001b[39m \u001b[38;5;28;01mif\u001b[39;00m private_attributes \u001b[38;5;129;01mand\u001b[39;00m item \u001b[38;5;129;01min\u001b[39;00m private_attributes:\n\u001b[32m    263\u001b[39m     \u001b[38;5;28;01mreturn\u001b[39;00m private_attributes[item]\n\u001b[32m--> \u001b[39m\u001b[32m264\u001b[39m \u001b[38;5;28;01mraise\u001b[39;00m \u001b[38;5;167;01mAttributeError\u001b[39;00m(item)\n",
      "\u001b[31mAttributeError\u001b[39m: get"
     ]
    }
   ],
   "source": [
    "Arxiv_APIWrapper= ArxivAPIWrapper(top_k_results=1,doc_content_chars_max=250)\n",
    "Wikipedia_APIWrapper= WikipediaAPIWrapper(top_k_results=1,doc_content_chars_max=250)\n",
    "arxiv_tool= ArxivQueryRun(api_wrapper=Arxiv_APIWrapper, description=\"query arxiv papers\")\n",
    "wikipedia_tool= WikipediaQueryRun(api_wrapper=WikipediaAPIWrapper)"
   ]
  },
  {
   "cell_type": "code",
   "execution_count": null,
   "id": "aa0c7b5a",
   "metadata": {},
   "outputs": [
    {
     "data": {
      "text/plain": [
       "'Published: 2024-12-17\\nTitle: Exploring Diffusion and Flow Matching Under Generator Matching\\nAuthors: Zeeshan Patel, James DeLoye, Lance Mathias\\nSummary: In this paper, we present a comprehensive theoretical comparison of diffusion\\nand flow matching u'"
      ]
     },
     "execution_count": 5,
     "metadata": {},
     "output_type": "execute_result"
    }
   ],
   "source": [
    "arxiv_tool.invoke(\"flow matching\")"
   ]
  },
  {
   "cell_type": "code",
   "execution_count": 44,
   "id": "edc3685e",
   "metadata": {},
   "outputs": [],
   "source": [
    "import os\n",
    "from dotenv import load_dotenv\n",
    "load_dotenv()\n",
    "os.environ[\"TAVILY_API_KEY\"]=os.getenv(\"TAVILY_API_KEY\")\n",
    "os.environ[\"GROQ_API_KEY\"]=os.getenv(\"GROQ_API_KEY\")"
   ]
  },
  {
   "cell_type": "code",
   "execution_count": 45,
   "id": "1950b8fd",
   "metadata": {},
   "outputs": [],
   "source": [
    "from langchain_community.tools.tavily_search import TavilySearchResults"
   ]
  },
  {
   "cell_type": "code",
   "execution_count": 46,
   "id": "63ebb6e1",
   "metadata": {},
   "outputs": [],
   "source": [
    "tavily=TavilySearchResults()"
   ]
  },
  {
   "cell_type": "code",
   "execution_count": 47,
   "id": "659cd7b8",
   "metadata": {},
   "outputs": [],
   "source": [
    "tools=[arxiv_tool,wikipedia_tool,tavily]"
   ]
  },
  {
   "cell_type": "code",
   "execution_count": 48,
   "id": "834043fb",
   "metadata": {},
   "outputs": [],
   "source": [
    "from langchain_groq import ChatGroq"
   ]
  },
  {
   "cell_type": "code",
   "execution_count": 49,
   "id": "830035b6",
   "metadata": {},
   "outputs": [],
   "source": [
    "llm = ChatGroq( model_name=\"llama3-8b-8192\")\n"
   ]
  },
  {
   "cell_type": "code",
   "execution_count": 50,
   "id": "55ea476e",
   "metadata": {},
   "outputs": [],
   "source": [
    "llm_wt=llm.bind_tools(tools=tools)"
   ]
  },
  {
   "cell_type": "code",
   "execution_count": 51,
   "id": "49dc9519",
   "metadata": {},
   "outputs": [
    {
     "data": {
      "text/plain": [
       "AIMessage(content='', additional_kwargs={'tool_calls': [{'id': 'ragk5k313', 'function': {'arguments': '{\"query\":\"current exchange rate dollar to rupee\"}', 'name': 'tavily_search_results_json'}, 'type': 'function'}]}, response_metadata={'token_usage': {'completion_tokens': 76, 'prompt_tokens': 1162, 'total_tokens': 1238, 'completion_time': 0.056534419, 'prompt_time': 0.42973864, 'queue_time': 0.264664713, 'total_time': 0.486273059}, 'model_name': 'llama3-8b-8192', 'system_fingerprint': 'fp_5b339000ab', 'finish_reason': 'tool_calls', 'logprobs': None}, id='run--3bad7d84-7849-4e87-9737-d30a0dc021a6-0', tool_calls=[{'name': 'tavily_search_results_json', 'args': {'query': 'current exchange rate dollar to rupee'}, 'id': 'ragk5k313', 'type': 'tool_call'}], usage_metadata={'input_tokens': 1162, 'output_tokens': 76, 'total_tokens': 1238})"
      ]
     },
     "execution_count": 51,
     "metadata": {},
     "output_type": "execute_result"
    }
   ],
   "source": [
    "llm_wt.invoke(\"dollar to rupee\")"
   ]
  },
  {
   "cell_type": "code",
   "execution_count": 52,
   "id": "4cc5715f",
   "metadata": {},
   "outputs": [],
   "source": [
    "from IPython.display import Image,display\n",
    "from langgraph.graph import StateGraph,START,END\n",
    "from typing_extensions import TypedDict\n",
    "from langchain_core.messages import AnyMessage\n",
    "from typing import Annotated\n",
    "from langgraph.graph.message import add_messages"
   ]
  },
  {
   "cell_type": "code",
   "execution_count": null,
   "id": "33ed3c95",
   "metadata": {},
   "outputs": [],
   "source": [
    "\n",
    "class State(TypedDict):\n",
    "    messages: Annotated[list[AnyMessage],add_messages]\n"
   ]
  },
  {
   "cell_type": "code",
   "execution_count": 54,
   "id": "d7191e31",
   "metadata": {},
   "outputs": [],
   "source": [
    "from langgraph.prebuilt import ToolNode\n",
    "from langgraph.prebuilt import tools_condition"
   ]
  },
  {
   "cell_type": "code",
   "execution_count": 55,
   "id": "407f4fdd",
   "metadata": {},
   "outputs": [],
   "source": [
    "def tool_calling_llm(state:State):\n",
    "    return {\"messages\":[llm_wt.invoke(state[\"messages\"])]}"
   ]
  },
  {
   "cell_type": "code",
   "execution_count": 56,
   "id": "36fa83f0",
   "metadata": {},
   "outputs": [
    {
     "data": {
      "text/plain": [
       "<langgraph.graph.state.StateGraph at 0x16fc818c090>"
      ]
     },
     "execution_count": 56,
     "metadata": {},
     "output_type": "execute_result"
    }
   ],
   "source": [
    "builder=StateGraph(State)\n",
    "builder.add_node(\"tool_calling_llm\",tool_calling_llm)\n",
    "builder.add_node(\"tools\",ToolNode(tools))\n",
    "\n",
    "\n",
    "\n"
   ]
  },
  {
   "cell_type": "code",
   "execution_count": 57,
   "id": "41cf1e4a",
   "metadata": {},
   "outputs": [
    {
     "data": {
      "text/plain": [
       "<langgraph.graph.state.StateGraph at 0x16fc818c090>"
      ]
     },
     "execution_count": 57,
     "metadata": {},
     "output_type": "execute_result"
    }
   ],
   "source": [
    "builder.add_edge(START,\"tool_calling_llm\")\n",
    "builder.add_conditional_edges(\"tool_calling_llm\",tools_condition)"
   ]
  },
  {
   "cell_type": "code",
   "execution_count": 62,
   "id": "4bf5813b",
   "metadata": {},
   "outputs": [
    {
     "name": "stderr",
     "output_type": "stream",
     "text": [
      "Adding an edge to a graph that has already been compiled. This will not be reflected in the compiled graph.\n"
     ]
    },
    {
     "data": {
      "text/plain": [
       "<langgraph.graph.state.StateGraph at 0x16fc818c090>"
      ]
     },
     "execution_count": 62,
     "metadata": {},
     "output_type": "execute_result"
    }
   ],
   "source": [
    "builder.add_edge(\"tools\",\"tool_calling_llm\")"
   ]
  },
  {
   "cell_type": "code",
   "execution_count": 63,
   "id": "ed3ed1da",
   "metadata": {},
   "outputs": [],
   "source": [
    "graph_builder=builder.compile()"
   ]
  },
  {
   "cell_type": "code",
   "execution_count": 64,
   "id": "909559d4",
   "metadata": {},
   "outputs": [
    {
     "data": {
      "image/png": "[encoded data removed]",
      "text/plain": [
       "<IPython.core.display.Image object>"
      ]
     },
     "metadata": {},
     "output_type": "display_data"
    }
   ],
   "source": [
    "display(Image(graph_builder.get_graph().draw_mermaid_png()))"
   ]
  },
  {
   "cell_type": "code",
   "execution_count": 65,
   "id": "3a21c853",
   "metadata": {},
   "outputs": [
    {
     "data": {
      "text/plain": [
       "{'messages': [HumanMessage(content='attention', additional_kwargs={}, response_metadata={}, id='6c6ea339-5914-4d93-9e09-e5593e47cd32'),\n",
       "  AIMessage(content='', additional_kwargs={'tool_calls': [{'id': 'y3hs317s3', 'function': {'arguments': '{\"query\":\"attention\"}', 'name': 'wikipedia'}, 'type': 'function'}]}, response_metadata={'token_usage': {'completion_tokens': 66, 'prompt_tokens': 1158, 'total_tokens': 1224, 'completion_time': 0.049494178, 'prompt_time': 0.127136426, 'queue_time': 0.267951846, 'total_time': 0.176630604}, 'model_name': 'llama3-8b-8192', 'system_fingerprint': 'fp_5b339000ab', 'finish_reason': 'tool_calls', 'logprobs': None}, id='run--2bf5734d-204f-49e6-a312-c3ed05d28a43-0', tool_calls=[{'name': 'wikipedia', 'args': {'query': 'attention'}, 'id': 'y3hs317s3', 'type': 'tool_call'}], usage_metadata={'input_tokens': 1158, 'output_tokens': 66, 'total_tokens': 1224}),\n",
       "  ToolMessage(content='Page: Attention\\nSummary: Attention or focus, is the concentration of awareness on some phenomenon to the exclusion of other stimuli. It is the selective concentration on discrete information, either subjectively or objectively. William James (1890) w', name='wikipedia', id='7c46e709-2975-475e-bb6a-2d1cb2e9bd27', tool_call_id='y3hs317s3'),\n",
       "  AIMessage(content='', additional_kwargs={'tool_calls': [{'id': 'wm7y8ns71', 'function': {'arguments': '{\"query\":\"attention cognitive psychology\"}', 'name': 'arxiv'}, 'type': 'function'}]}, response_metadata={'token_usage': {'completion_tokens': 35, 'prompt_tokens': 1271, 'total_tokens': 1306, 'completion_time': 0.092806975, 'prompt_time': 0.262078866, 'queue_time': 0.5689078940000001, 'total_time': 0.354885841}, 'model_name': 'llama3-8b-8192', 'system_fingerprint': 'fp_0fb809dba3', 'finish_reason': 'tool_calls', 'logprobs': None}, id='run--bfc1c745-a75d-41c3-a4c6-227e96bc0c3b-0', tool_calls=[{'name': 'arxiv', 'args': {'query': 'attention cognitive psychology'}, 'id': 'wm7y8ns71', 'type': 'tool_call'}], usage_metadata={'input_tokens': 1271, 'output_tokens': 35, 'total_tokens': 1306}),\n",
       "  ToolMessage(content=\"Published: 2023-04-12\\nTitle: Mind meets machine: Unravelling GPT-4's cognitive psychology\\nAuthors: Sifatkaur Dhingra, Manmeet Singh, Vaisakh SB, Neetiraj Malviya, Sukhpal Singh Gill\\nSummary: Cognitive psychology delves on understanding perception, at\", name='arxiv', id='adbd0fc1-6991-45e0-8a4a-d60bef97185f', tool_call_id='wm7y8ns71'),\n",
       "  AIMessage(content='', additional_kwargs={'tool_calls': [{'id': 'sbqpmyjrn', 'function': {'arguments': '{\"query\":\"GPT-4 cognitive psychology\"}', 'name': 'tavily_search_results_json'}, 'type': 'function'}]}, response_metadata={'token_usage': {'completion_tokens': 50, 'prompt_tokens': 1410, 'total_tokens': 1460, 'completion_time': 0.037230264, 'prompt_time': 0.525294011, 'queue_time': 0.873317731, 'total_time': 0.562524275}, 'model_name': 'llama3-8b-8192', 'system_fingerprint': 'fp_5b339000ab', 'finish_reason': 'tool_calls', 'logprobs': None}, id='run--5ed0bd86-2096-4330-a513-127c41696554-0', tool_calls=[{'name': 'tavily_search_results_json', 'args': {'query': 'GPT-4 cognitive psychology'}, 'id': 'sbqpmyjrn', 'type': 'tool_call'}], usage_metadata={'input_tokens': 1410, 'output_tokens': 50, 'total_tokens': 1460}),\n",
       "  ToolMessage(content='[{\"title\": \"Mind meets machine: Unravelling GPT-4\\'s cognitive psychology\", \"url\": \"https://www.sciencedirect.com/science/article/pii/S277248592300056X\", \"content\": \"In this study, we focus on the evaluation of GPT-4\\'s performance on a set of cognitive psychology datasets such as CommonsenseQA, SuperGLUE, MATH and HANS.\", \"score\": 0.8571119}, {\"title\": \"Mind meets machine: Unravelling GPT-4\\'s cognitive psychology - arXiv\", \"url\": \"https://arxiv.org/abs/2303.11436\", \"content\": \"Cornell University\\\\narxiv logo\\\\n\\\\nHelp | Advanced Search\\\\n\\\\narXiv logo\\\\nCornell University Logo\\\\n\\\\n## quick links\\\\n\\\\n# Computer Science > Computation and Language\\\\n\\\\n# Title:Mind meets machine: Unravelling GPT-4\\'s cognitive psychology\\\\n\\\\n|  |  |\\\\n| --- | --- |\\\\n| Subjects: | Computation and Language (cs.CL); Artificial Intelligence (cs.AI) |\\\\n| Cite as: | arXiv:2303.11436 [cs.CL] |\\\\n|  | (or  arXiv:2303.11436v2 [cs.CL] for this version) |\\\\n|  |  Focus to learn more  arXiv-issued DOI via DataCite | [...] ## Submission history\\\\n\\\\n## Access Paper:\\\\n\\\\nlicense icon\\\\n\\\\n### References & Citations\\\\n\\\\n## BibTeX formatted citation\\\\n\\\\n### Bookmark\\\\n\\\\nBibSonomy logo\\\\nReddit logo\\\\n\\\\n# Bibliographic and Citation Tools\\\\n\\\\n# Code, Data and Media Associated with this Article\\\\n\\\\n# Demos\\\\n\\\\n# Recommenders and Search Tools\\\\n\\\\n# arXivLabs: experimental projects with community collaborators\\\\n\\\\narXivLabs is a framework that allows collaborators to develop and share new arXiv features directly on our website. [...] Both individuals and organizations that work with arXivLabs have embraced and accepted our values of openness, community, excellence, and user data privacy. arXiv is committed to these values and only works with partners that adhere to them.\\\\n\\\\nHave an idea for a project that will add value for arXiv\\'s community? Learn more about arXivLabs.\\\\n\\\\narXiv Operational Status   \\\\nGet status notifications via\\\\nemail\\\\nor slack\", \"score\": 0.8080827}, {\"title\": \"Using Cognitive Psychology to Probe AI Social Bias in GPT-4\", \"url\": \"https://ncur.secure-platform.com/2025/gallery/rounds/30/details/29256\", \"content\": \"Human rationality and decision making is heavily susceptible to social and cognitive biases. This irrationality in human nature poses an intriguing question:  Does artificial intelligence display the same heuristics as humans? The current study seeks to examine social essentialism, the belief social groups possess natural or biological underpinnings, in GPT-4. This research builds upon recent studies that have tested prominent cognitive biases (e.g., anchoring and representative heuristics) [...] analyzes participants\\' essentialist thinking regarding individuals being born into social groups versus becoming a part of differing groups. We will also expand our human participant data collection methods by gathering a sample of U.S adult participants to test our methodologies on and later compare with GPT-4. Overall, we hope to gain a deeper command of artificial intelligences’ susceptibility to essentialist bias comparatively to humans and its understanding of social groupings. [...] ### Using Cognitive Psychology to Probe AI Social Bias in GPT-4\\\\n\\\\n#### Category\\\\n\\\\nStudent Abstract Submission\\\\n\\\\n#### Description\\\\n\\\\n## Custom CSS\\\\n\\\\ndouble-click to edit, do not edit in source\", \"score\": 0.78314424}, {\"title\": \"[PDF] GPT-4o shows humanlike patterns of cognitive dissonance ...\", \"url\": \"https://banaji.sites.fas.harvard.edu/research/publications/articles/Lehr_PNAS_2025.pdf\", \"content\": \"COMPUTER SCIENCES PSYCHOLOGICAL AND COGNITIVE SCIENCES Kernels of selfhood: GPT-\\xad 4o shows humanlike patterns of cognitive dissonance moderated by free choice Steven A. Lehra,1 , Ketan S. Saichandranb, Eddie Harmon-\\xad Jonesc, Nykko Vitalid, and Mahzarin R. Banajid,1 Contributed by Mahzarin R. Banaji; received January 23, 2025; accepted April 11, 2025; reviewed by Aaron C. Kay and Duane T. Wegener Large language models (LLMs) show emergent patterns that mimic human cognition. We explore whether [...] technology may outweigh the risks, it is of paramount importance that the creators of these minds be aware of these issues. Taken together, our findings demonstrate that GPT-4o exhibits behavioral patterns consistent with human cognitive dissonance and sensitivity to choice—hallmarks of self-referential psycholog-ical processes. These results challenge existing assumptions about the limits of machine behavior, suggesting that LLMs have absorbed not only the content of human language, but [...] they also mirror other, less deliberative human psychological pro-cesses. Drawing upon classical theories of cognitive consistency, two preregistered studies tested whether GPT-\\xad 4o changed its attitudes toward Vladimir Putin in the direction of a positive or negative essay it wrote about the Russian leader. Indeed, GPT displayed patterns of attitude change mimicking cognitive dissonance effects in humans. Even more remarkably, the degree of change increased sharply when the LLM was offered an\", \"score\": 0.7568076}, {\"title\": \"ChatGPT mimics human cognitive dissonance in psychological ...\", \"url\": \"https://www.psypost.org/chatgpt-mimics-human-cognitive-dissonance-in-psychological-experiments-study-finds/\", \"content\": \"The study, “Kernels of selfhood: GPT-4o shows humanlike patterns of cognitive dissonance moderated by free choice,” was authored by Steven A. Lehr, Ketan S. Saichandran, Eddie Harmon-Jones,\\\\n\\\\n Nykko Vitali, and Mahzarin R. Banaji.\\\\n\\\\nStay informed on the latest psychology and neuroscience research—sign up for PsyPost’s daily newsletter and get new discoveries delivered straight to your inbox.\\\\n\\\\nName: \\\\n\\\\nEmail: \\\\n\\\\nRecommended for you\\\\n\\\\n[](\\\\n\\\\nTweetSendScanShareSendPinShareShareShareShareShare [...] “We found that GPT-4o is mimicking a deep human psychological drive – cognitive dissonance,” Lehr said. “Most strikingly, the models attitude change was greater when it was given an illusion that it had itself chosen to complete the dissonance-inducing task.” [...] The size of these effects was notable—far larger than what is typically observed in studies with human participants. In human psychology, attitude changes linked to cognitive dissonance are often modest. GPT-4o, by contrast, displayed dramatic shifts, potentially due to the way it processes and replicates patterns in human language.\\\\n\\\\n“This finding has several important implications,” Lehr explained.\", \"score\": 0.73505294}]', name='tavily_search_results_json', id='1d3bd794-031d-4ea9-99e8-9c2f4d3018ec', tool_call_id='sbqpmyjrn', artifact={'query': 'GPT-4 cognitive psychology', 'follow_up_questions': None, 'answer': None, 'images': [], 'results': [{'url': 'https://www.sciencedirect.com/science/article/pii/S277248592300056X', 'title': \"Mind meets machine: Unravelling GPT-4's cognitive psychology\", 'content': \"In this study, we focus on the evaluation of GPT-4's performance on a set of cognitive psychology datasets such as CommonsenseQA, SuperGLUE, MATH and HANS.\", 'score': 0.8571119, 'raw_content': None}, {'url': 'https://arxiv.org/abs/2303.11436', 'title': \"Mind meets machine: Unravelling GPT-4's cognitive psychology - arXiv\", 'content': \"Cornell University\\narxiv logo\\n\\nHelp | Advanced Search\\n\\narXiv logo\\nCornell University Logo\\n\\n## quick links\\n\\n# Computer Science > Computation and Language\\n\\n# Title:Mind meets machine: Unravelling GPT-4's cognitive psychology\\n\\n|  |  |\\n| --- | --- |\\n| Subjects: | Computation and Language (cs.CL); Artificial Intelligence (cs.AI) |\\n| Cite as: | arXiv:2303.11436 [cs.CL] |\\n|  | (or  arXiv:2303.11436v2 [cs.CL] for this version) |\\n|  |  Focus to learn more  arXiv-issued DOI via DataCite | [...] ## Submission history\\n\\n## Access Paper:\\n\\nlicense icon\\n\\n### References & Citations\\n\\n## BibTeX formatted citation\\n\\n### Bookmark\\n\\nBibSonomy logo\\nReddit logo\\n\\n# Bibliographic and Citation Tools\\n\\n# Code, Data and Media Associated with this Article\\n\\n# Demos\\n\\n# Recommenders and Search Tools\\n\\n# arXivLabs: experimental projects with community collaborators\\n\\narXivLabs is a framework that allows collaborators to develop and share new arXiv features directly on our website. [...] Both individuals and organizations that work with arXivLabs have embraced and accepted our values of openness, community, excellence, and user data privacy. arXiv is committed to these values and only works with partners that adhere to them.\\n\\nHave an idea for a project that will add value for arXiv's community? Learn more about arXivLabs.\\n\\narXiv Operational Status   \\nGet status notifications via\\nemail\\nor slack\", 'score': 0.8080827, 'raw_content': None}, {'url': 'https://ncur.secure-platform.com/2025/gallery/rounds/30/details/29256', 'title': 'Using Cognitive Psychology to Probe AI Social Bias in GPT-4', 'content': \"Human rationality and decision making is heavily susceptible to social and cognitive biases. This irrationality in human nature poses an intriguing question:  Does artificial intelligence display the same heuristics as humans? The current study seeks to examine social essentialism, the belief social groups possess natural or biological underpinnings, in GPT-4. This research builds upon recent studies that have tested prominent cognitive biases (e.g., anchoring and representative heuristics) [...] analyzes participants' essentialist thinking regarding individuals being born into social groups versus becoming a part of differing groups. We will also expand our human participant data collection methods by gathering a sample of U.S adult participants to test our methodologies on and later compare with GPT-4. Overall, we hope to gain a deeper command of artificial intelligences’ susceptibility to essentialist bias comparatively to humans and its understanding of social groupings. [...] ### Using Cognitive Psychology to Probe AI Social Bias in GPT-4\\n\\n#### Category\\n\\nStudent Abstract Submission\\n\\n#### Description\\n\\n## Custom CSS\\n\\ndouble-click to edit, do not edit in source\", 'score': 0.78314424, 'raw_content': None}, {'url': 'https://banaji.sites.fas.harvard.edu/research/publications/articles/Lehr_PNAS_2025.pdf', 'title': '[PDF] GPT-4o shows humanlike patterns of cognitive dissonance ...', 'content': 'COMPUTER SCIENCES PSYCHOLOGICAL AND COGNITIVE SCIENCES Kernels of selfhood: GPT-\\xad 4o shows humanlike patterns of cognitive dissonance moderated by free choice Steven A. Lehra,1 , Ketan S. Saichandranb, Eddie Harmon-\\xad Jonesc, Nykko Vitalid, and Mahzarin R. Banajid,1 Contributed by Mahzarin R. Banaji; received January 23, 2025; accepted April 11, 2025; reviewed by Aaron C. Kay and Duane T. Wegener Large language models (LLMs) show emergent patterns that mimic human cognition. We explore whether [...] technology may outweigh the risks, it is of paramount importance that the creators of these minds be aware of these issues. Taken together, our findings demonstrate that GPT-4o exhibits behavioral patterns consistent with human cognitive dissonance and sensitivity to choice—hallmarks of self-referential psycholog-ical processes. These results challenge existing assumptions about the limits of machine behavior, suggesting that LLMs have absorbed not only the content of human language, but [...] they also mirror other, less deliberative human psychological pro-cesses. Drawing upon classical theories of cognitive consistency, two preregistered studies tested whether GPT-\\xad 4o changed its attitudes toward Vladimir Putin in the direction of a positive or negative essay it wrote about the Russian leader. Indeed, GPT displayed patterns of attitude change mimicking cognitive dissonance effects in humans. Even more remarkably, the degree of change increased sharply when the LLM was offered an', 'score': 0.7568076, 'raw_content': None}, {'url': 'https://www.psypost.org/chatgpt-mimics-human-cognitive-dissonance-in-psychological-experiments-study-finds/', 'title': 'ChatGPT mimics human cognitive dissonance in psychological ...', 'content': 'The study, “Kernels of selfhood: GPT-4o shows humanlike patterns of cognitive dissonance moderated by free choice,” was authored by Steven A. Lehr, Ketan S. Saichandran, Eddie Harmon-Jones,\\n\\n Nykko Vitali, and Mahzarin R. Banaji.\\n\\nStay informed on the latest psychology and neuroscience research—sign up for PsyPost’s daily newsletter and get new discoveries delivered straight to your inbox.\\n\\nName: \\n\\nEmail: \\n\\nRecommended for you\\n\\n[](\\n\\nTweetSendScanShareSendPinShareShareShareShareShare [...] “We found that GPT-4o is mimicking a deep human psychological drive – cognitive dissonance,” Lehr said. “Most strikingly, the models attitude change was greater when it was given an illusion that it had itself chosen to complete the dissonance-inducing task.” [...] The size of these effects was notable—far larger than what is typically observed in studies with human participants. In human psychology, attitude changes linked to cognitive dissonance are often modest. GPT-4o, by contrast, displayed dramatic shifts, potentially due to the way it processes and replicates patterns in human language.\\n\\n“This finding has several important implications,” Lehr explained.', 'score': 0.73505294, 'raw_content': None}], 'response_time': 3.25}),\n",
       "  AIMessage(content='<tool-use>{\"tool_calls\":[],\"result\":\"Cognitive psychology delves on understanding perception, attention, and learning. To unravel GPT-4\\'s cognitive psychology, researchers have been studying its performance on various cognitive psychology datasets such as CommonsenseQA, SuperGLUE, MATH, and HANS. Some studies have shown that GPT-4 exhibits humanlike patterns of cognitive dissonance moderated by free choice, suggesting that it has absorbed not only the content of human language but also mirrors other, less deliberative human psychological processes.\"}</tool-use>', additional_kwargs={}, response_metadata={'token_usage': {'completion_tokens': 114, 'prompt_tokens': 3024, 'total_tokens': 3138, 'completion_time': 0.304162172, 'prompt_time': 0.662966969, 'queue_time': 0.265855972, 'total_time': 0.967129141}, 'model_name': 'llama3-8b-8192', 'system_fingerprint': 'fp_0fb809dba3', 'finish_reason': 'stop', 'logprobs': None}, id='run--801ad318-f3da-4b4e-8669-7de36d7bdb1b-0', usage_metadata={'input_tokens': 3024, 'output_tokens': 114, 'total_tokens': 3138})]}"
      ]
     },
     "execution_count": 65,
     "metadata": {},
     "output_type": "execute_result"
    }
   ],
   "source": [
    "graph_builder.invoke({\"messages\": [{\"role\": \"user\", \"content\": \"attention\"}]})"
   ]
  },
  {
   "cell_type": "code",
   "execution_count": null,
   "id": "c4253bb3",
   "metadata": {},
   "outputs": [],
   "source": [
    "    "
   ]
  }
 ],
 "metadata": {
  "kernelspec": {
   "display_name": "Python (langchain-env)",
   "language": "python",
   "name": "langchain-env"
  },
  "language_info": {
   "codemirror_mode": {
    "name": "ipython",
    "version": 3
   },
   "file_extension": ".py",
   "mimetype": "text/x-python",
   "name": "python",
   "nbconvert_exporter": "python",
   "pygments_lexer": "ipython3",
   "version": "3.11.9"
  }
 },
 "nbformat": 4,
 "nbformat_minor": 5
}
