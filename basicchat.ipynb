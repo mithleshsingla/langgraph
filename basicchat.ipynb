{
 "cells": [
  {
   "cell_type": "code",
   "execution_count": 2,
   "id": "98673448",
   "metadata": {},
   "outputs": [],
   "source": [
    "from IPython.display import Image,display\n",
    "from langgraph.graph import StateGraph,START,END\n",
    "from typing_extensions import TypedDict\n",
    "from langchain_core.messages import AnyMessage\n",
    "from typing import Annotated\n",
    "from langgraph.graph.message import add_messages"
   ]
  },
  {
   "cell_type": "code",
   "execution_count": 3,
   "id": "6d0f50ef",
   "metadata": {},
   "outputs": [],
   "source": [
    "\n",
    "class State(TypedDict):\n",
    "    messages: Annotated[list,add_messages]\n"
   ]
  },
  {
   "cell_type": "code",
   "execution_count": 4,
   "id": "e7ab873b",
   "metadata": {},
   "outputs": [],
   "source": [
    "import os\n",
    "from dotenv import load_dotenv\n",
    "load_dotenv()\n",
    "os.environ[\"TAVILY_API_KEY\"]=os.getenv(\"TAVILY_API_KEY\")\n",
    "os.environ[\"GROQ_API_KEY\"]=os.getenv(\"GROQ_API_KEY\")"
   ]
  },
  {
   "cell_type": "code",
   "execution_count": 6,
   "id": "d70682d6",
   "metadata": {},
   "outputs": [],
   "source": [
    "from langchain_groq import ChatGroq"
   ]
  },
  {
   "cell_type": "code",
   "execution_count": 7,
   "id": "8edcd76d",
   "metadata": {},
   "outputs": [],
   "source": [
    "llm = ChatGroq( model_name=\"llama3-8b-8192\")\n"
   ]
  },
  {
   "cell_type": "code",
   "execution_count": 8,
   "id": "42128af2",
   "metadata": {},
   "outputs": [],
   "source": [
    "def chatbot(state:State):\n",
    "    return {\"messages\":[llm.invoke(state[\"messages\"])]}"
   ]
  },
  {
   "cell_type": "code",
   "execution_count": 10,
   "id": "ea025994",
   "metadata": {},
   "outputs": [],
   "source": [
    "graph_builder=StateGraph(State)\n",
    "graph_builder.add_node(\"llmchatbot\",chatbot)\n",
    "graph_builder.add_edge(START,\"llmchatbot\")\n",
    "\n",
    "graph_builder.add_edge(\"llmchatbot\",END)\n",
    "graph=graph_builder.compile()\n",
    "\n"
   ]
  },
  {
   "cell_type": "code",
   "execution_count": 11,
   "id": "602620d3",
   "metadata": {},
   "outputs": [
    {
     "data": {
      "image/png": "[encoded data removed]",
      "text/plain": [
       "<IPython.core.display.Image object>"
      ]
     },
     "metadata": {},
     "output_type": "display_data"
    }
   ],
   "source": [
    "display(Image(graph.get_graph().draw_mermaid_png()))"
   ]
  },
  {
   "cell_type": "code",
   "execution_count": 13,
   "id": "1b8c2d14",
   "metadata": {},
   "outputs": [],
   "source": [
    "response=graph.invoke({\"messages\":\"Hi\"})"
   ]
  },
  {
   "cell_type": "code",
   "execution_count": 15,
   "id": "2fee95b4",
   "metadata": {},
   "outputs": [
    {
     "data": {
      "text/plain": [
       "\"Hi! It's nice to meet you. Is there something I can help you with or would you like to chat?\""
      ]
     },
     "execution_count": 15,
     "metadata": {},
     "output_type": "execute_result"
    }
   ],
   "source": [
    "response[\"messages\"][-1].content"
   ]
  },
  {
   "cell_type": "code",
   "execution_count": 17,
   "id": "52704993",
   "metadata": {},
   "outputs": [
    {
     "name": "stdout",
     "output_type": "stream",
     "text": [
      "{'messages': [AIMessage(content=\"Hello! I'm just an AI, so I don't have feelings or emotions like humans do, but I'm functioning properly and ready to help you with any questions or tasks you may have! How about you, how's your day going?\", additional_kwargs={}, response_metadata={'token_usage': {'completion_tokens': 50, 'prompt_tokens': 15, 'total_tokens': 65, 'completion_time': 0.069811533, 'prompt_time': 0.003790814, 'queue_time': 0.266654159, 'total_time': 0.073602347}, 'model_name': 'llama3-8b-8192', 'system_fingerprint': 'fp_5b339000ab', 'service_tier': 'on_demand', 'finish_reason': 'stop', 'logprobs': None}, id='run--ae25bd88-578f-4d9c-904d-72141ef2c09f-0', usage_metadata={'input_tokens': 15, 'output_tokens': 50, 'total_tokens': 65})]}\n"
     ]
    }
   ],
   "source": [
    "for event in graph.stream({\"messages\": \"hello how are you?\"}):\n",
    "    for value in event.values():\n",
    "        print(value)"
   ]
  },
  {
   "cell_type": "code",
   "execution_count": null,
   "id": "61b8eb3d",
   "metadata": {},
   "outputs": [],
   "source": []
  },
  {
   "cell_type": "code",
   "execution_count": 55,
   "id": "127c50b5",
   "metadata": {},
   "outputs": [],
   "source": [
    "from langchain_tavily import TavilySearch\n",
    "tavily=TavilySearch()"
   ]
  },
  {
   "cell_type": "code",
   "execution_count": 56,
   "id": "e0289d07",
   "metadata": {},
   "outputs": [],
   "source": [
    "def multiply(a:int,b:int)->int:\n",
    "    \"\"\"multiply a and b\n",
    "    Args:\n",
    "        a(int): 1st integer\n",
    "        \n",
    "        b(int): 2nd integer\n",
    "    return:\n",
    "        \n",
    "        int: output_int    \"\"\"\n",
    "    return a*b\n",
    "    \n",
    "    "
   ]
  },
  {
   "cell_type": "code",
   "execution_count": 57,
   "id": "bd972d61",
   "metadata": {},
   "outputs": [],
   "source": [
    "tools=[tavily,multiply]"
   ]
  },
  {
   "cell_type": "code",
   "execution_count": 58,
   "id": "8bf7b675",
   "metadata": {},
   "outputs": [],
   "source": [
    "llmwt=llm.bind_tools(tools)"
   ]
  },
  {
   "cell_type": "code",
   "execution_count": 59,
   "id": "3f8b0167",
   "metadata": {},
   "outputs": [],
   "source": [
    "from langgraph.prebuilt import ToolNode\n",
    "from langgraph.prebuilt import tools_condition"
   ]
  },
  {
   "cell_type": "code",
   "execution_count": 60,
   "id": "a40e8e98",
   "metadata": {},
   "outputs": [],
   "source": [
    "def tool_calling_llm(state:State):\n",
    "    return {\"messages\":[llmwt.invoke(state[\"messages\"])]}"
   ]
  },
  {
   "cell_type": "code",
   "execution_count": 61,
   "id": "745ff8b7",
   "metadata": {},
   "outputs": [
    {
     "data": {
      "text/plain": [
       "<langgraph.graph.state.StateGraph at 0x2138a1c2570>"
      ]
     },
     "execution_count": 61,
     "metadata": {},
     "output_type": "execute_result"
    }
   ],
   "source": [
    "builder=StateGraph(State)\n",
    "builder.add_node(\"tool_calling_llm\",tool_calling_llm)\n",
    "builder.add_node(\"tools\",ToolNode(tools))\n",
    "\n",
    "\n",
    "\n"
   ]
  },
  {
   "cell_type": "code",
   "execution_count": 62,
   "id": "0d0715b1",
   "metadata": {},
   "outputs": [
    {
     "data": {
      "text/plain": [
       "<langgraph.graph.state.StateGraph at 0x2138a1c2570>"
      ]
     },
     "execution_count": 62,
     "metadata": {},
     "output_type": "execute_result"
    }
   ],
   "source": [
    "builder.add_edge(START,\"tool_calling_llm\")\n",
    "builder.add_conditional_edges(\"tool_calling_llm\",tools_condition)"
   ]
  },
  {
   "cell_type": "code",
   "execution_count": 63,
   "id": "44eb7c30",
   "metadata": {},
   "outputs": [
    {
     "data": {
      "text/plain": [
       "<langgraph.graph.state.StateGraph at 0x2138a1c2570>"
      ]
     },
     "execution_count": 63,
     "metadata": {},
     "output_type": "execute_result"
    }
   ],
   "source": [
    "builder.add_edge(\"tools\",\"tool_calling_llm\")"
   ]
  },
  {
   "cell_type": "code",
   "execution_count": 64,
   "id": "54559d29",
   "metadata": {},
   "outputs": [],
   "source": [
    "graph_builder=builder.compile()"
   ]
  },
  {
   "cell_type": "code",
   "execution_count": 65,
   "id": "34352b42",
   "metadata": {},
   "outputs": [
    {
     "data": {
      "image/png": "[encoded data removed]",
      "text/plain": [
       "<IPython.core.display.Image object>"
      ]
     },
     "metadata": {},
     "output_type": "display_data"
    }
   ],
   "source": [
    "display(Image(graph_builder.get_graph().draw_mermaid_png()))"
   ]
  },
  {
   "cell_type": "code",
   "execution_count": 48,
   "id": "5ba2c988",
   "metadata": {},
   "outputs": [],
   "source": [
    "response=graph_builder.invoke({\"messages\":\"Hi what is latest ai news\"})"
   ]
  },
  {
   "cell_type": "code",
   "execution_count": 49,
   "id": "c6c9b03a",
   "metadata": {},
   "outputs": [
    {
     "data": {
      "text/plain": [
       "'{\"query\": \"latest ai news\", \"follow_up_questions\": null, \"answer\": null, \"images\": [\"https://autogpt.net/wp-content/uploads/2023/07/Pogla_Explore_the_latest_AI_news_from_groundbreaking_drug_trial_07ab875d-1e11-42d5-89ef-39ff3d5ab451.jpg\", \"https://assets.weforum.org/editor/Ktdhn0KNfhbpY_AE77yZFRYJ9zUl9hnFcncbE53QzUQ.PNG\", \"https://www.solulab.com/wp-content/uploads/2024/01/Top-Artificial-Intelligence-Trends.jpg\", \"https://xtracta.com/wp-content/uploads/2022/02/artificial-intelligence-trends.jpg\", \"https://fastestvpn.com/blog/wp-content/uploads/2023/02/10-Latest-AI-Inventions-f.png\"], \"results\": [{\"url\": \"https://www.nytimes.com/spotlight/artificial-intelligence\", \"title\": \"Artificial Intelligence - The New York Times\", \"content\": \"Outside a Senate Judiciary Committee hearing on online child sexual exploitation in 2024. Images of child sexual abuse created by the latest A.I. technology have become smoother and more detailed. \\\\n\\\\nThe A.I. Frenzy Is Escalating. Again.\\\\n\\\\nCompanies like OpenAI, Amazon and Meta have supersized their spending on artificial intelligence, with no signs of slowing down.\\\\n\\\\n By Cade Metz\\\\n\\\\nOpenAI, with its partners Oracle and SoftBank, is racing to build a giant new data center in Abilene, Texas. [...] ### Generative A.I. Destroys a Building in Its Netflix Debut\\\\n\\\\nThe streaming company said it used the technology onscreen for the first time in an Argentine science fiction show.\\\\n\\\\nBy Michaela Towfighi\\\\n\\\\n### X Hits Grok Bottom + More A.I. Talent Wars + ‘Crypto Week’\\\\n\\\\n“XAI had to apologize after Grok began praising Adolf Hitler, making antisemitic comments and referring to itself as MechaHitler.” [...] Henna Virkkunen of the European Commission said the new law would make advanced A.I. models “not only innovative but also safe and transparent.” \\\\n\\\\n### A.I.-Generated Images of Child Sexual Abuse Are Flooding the Internet\\\\n\\\\nOrganizations that track the material are reporting a surge in A.I. images and videos, which are threatening to overwhelm law enforcement.\\\\n\\\\n By Cecilia Kang\", \"score\": 0.7559439, \"raw_content\": null}, {\"url\": \"https://techcrunch.com/category/artificial-intelligence/\", \"title\": \"AI News & Artificial Intelligence | TechCrunch\", \"content\": \"Contact Us\\\\n\\\\n# AI\\\\n\\\\nNews coverage on artificial intelligence and machine learning tech, the companies building them, and the ethical issues AI raises today. This encompasses generative AI, including large language models, text-to-image and text-to-video models; speech recognition and generation; and predictive analytics.\\\\n\\\\n### \\\\n\\\\nBlue code on a dark background presented at an angle.\\\\n\\\\n### Benchmark in talks to lead Series A for Greptile, valuing AI-code reviewer at $180M, sources say [...] Lovable team (Rights: Anton Osika)\\\\n\\\\n### Lovable becomes a unicorn with $200M Series A just 8 months after launch\\\\n\\\\nQpiAI Indus quantum computer\\\\n\\\\n### India eyes global quantum computer push — and QpiAI is its chosen vehicle\\\\n\\\\n### Scale AI lays off 14% of staff, largely in data-labeling business\\\\n\\\\nElon Musk\\\\n\\\\n### OpenAI and Anthropic researchers decry ‘reckless’ safety culture at Elon Musk’s xAI\\\\n\\\\nNvidia logo\\\\n\\\\n### Nvidia’s resumption of H20 chip sales related to rare-earth element trade talks [...] OpenAI logo with spiraling pastel colors (Image Credits: Bryce Durbin / TechCrunch)\\\\n\\\\n### OpenAI launches a general purpose agent in ChatGPT\\\\n\\\\nMistral logo on laptop screen\\\\n\\\\n### Mistral’s Le Chat chatbot gets a productivity push with new ‘deep research’ mode\\\\n\\\\nJonathan Mortensen, CEO/founder of Confident Security\\\\n\\\\n### Confident Security, ‘the Signal for AI,’ comes out of stealth with $4.2M\\\\n\\\\nUAE flag flying in front of ocean/skyline\\\\n\\\\n### UAE’s deal to buy Nvidia AI chips reportedly on hold\", \"score\": 0.6912478, \"raw_content\": null}, {\"url\": \"https://natlawreview.com/article/ai-under-spotlight-key-insights-ahead-white-house-action-plan\", \"title\": \"White House Set to Unveil AI Action Plan July 23\", \"content\": \"As we’ve noted previously, Trump was the first president to issue an executive order on AI—No. 13859 of February 11, 2019, “Maintaining American Leadership in Artificial Intelligence” (“E.O. 13859”). E.O. 13859 announced a U.S. policy “to sustain and enhance the scientific, technological, and economic leadership position of the United States in AI R&D and deployment,” setting forth six strategic objectives in furtherance of both promoting and protecting American investments in AI: [...] In Executive Order 14179 of January 23, 2025—entitled “Removing Barriers to American Leadership in Artificial Intelligence”—President Donald Trump directed federal officials to develop an Action Plan to achieve the policies of sustaining and enhancing America’s dominance in global AI. The plan is expected to drop by July 23, to coincide with an address by the President outlining his vision for American AI. [...] The release of the Action Plan will follow a number of recent developments in AI at the state and federal levels that show no signs of abating. On July 15, for instance, the White House announced $90 billion in energy and data center investments in Pennsylvania, according to Reuters. Bloomberg reported the same day that President Trump is planning to sign another executive order to implement the Action Plan upon its release to push the policy forward.\\\\n\\\\n### ‘Maintaining American Leadership’\", \"score\": 0.6636041, \"raw_content\": null}, {\"url\": \"https://www.bbc.com/news/topics/ce1qrvleleqt\", \"title\": \"Artificial intelligence - BBC News\", \"content\": \"## Nvidia says it will restart AI chip sales to China\\\\n\\\\nThe move would reverse a US ban on sales of the high-end chip to the world\\'s second largest economy.\\\\n\\\\nA phone showing the text \\\\\"Meta AI\\\\\" rests on a keyboard. The picture has pink and purple tones. \\\\n\\\\n## Meta to spend hundreds of billions to build AI data centres\\\\n\\\\nThe founder of the social media giant said one of the sites would cover an area nearly the size of Manhattan. [...] ## Netflix uses AI effects for first time to cut costs\\\\n\\\\nThe streaming firm says AI allowed The Eternaut to complete a sequence faster and cheaper.\\\\n\\\\nDr Michelle Le Cheminant is wearing a white dress with patterned pale flowers and a creme cardigan. She has medium length light brown straight hair.\\\\n\\\\n## Healthcare provider to use AI to cut paperwork\\\\n\\\\nGuernsey\\'s specialist medical care provider says it will help doctors spend more time with patients. [...] The Isambard-AI supercomputer is made fully operational as the government unveils fresh AI plans.\\\\n\\\\nA phone with the WeTransfer logo on the screen, on top of a tablet showing the WeTransfer homepage\\\\n\\\\n## WeTransfer says files not used to train AI after backlash\\\\n\\\\nSome social media users had threatened to delete their accounts after WeTransfer\\'s terms were updated.\\\\n\\\\nJensen Huang, CEO of Nvidia, speaks at a panel discussion at London Tech Week on 9 June, 2025 in London.\", \"score\": 0.62687886, \"raw_content\": null}, {\"url\": \"https://news.mit.edu/topic/artificial-intelligence2\", \"title\": \"Artificial intelligence | Massachusetts Institute of Technology\", \"content\": \"An AI pipeline developed by CSAIL researchers enables unique hydrodynamic designs for bodyboard-sized vehicles that glide underwater and could help scientists gather marine data.\\\\n\\\\nJuly 9, 2025\\\\n\\\\nRead full story →\\\\n\\\\nA robot holds a lightbulb, surrounded by chalkboards.\\\\n\\\\n### Study could lead to LLMs that are better at complex reasoning\\\\n\\\\nResearchers developed a way to make large language models more adaptable to challenging tasks like strategic planning or process optimization.\\\\n\\\\nJuly 8, 2025 [...] The simulations matched results from an underground lab experiment in Switzerland, suggesting modeling could be used to validate the safety of nuclear disposal sites.\\\\n\\\\nJuly 18, 2025\\\\n\\\\nRead full story →\\\\n\\\\nA robot thinking between numbers and letters\\\\n\\\\n### This “smart coach” helps LLMs switch between text and code\\\\n\\\\nThe CodeSteer system could boost large language models’ accuracy when solving complex problems, such as scheduling shipments in a supply chain.\\\\n\\\\nJuly 17, 2025\\\\n\\\\nRead full story → [...] The Language/AI Incubator, an MIT Human Insight Collaborative project, is investigating how AI can improve communications among patients and practitioners.\\\\n\\\\nJuly 9, 2025\\\\n\\\\nRead full story →\\\\n\\\\n2 by 2 grid featuring a computer model of a ray-like board shape surrounded by red points connected in a mesh; red and aqua 3D models of gliders; and real-world versions of each board underwater\\\\n\\\\n### AI shapes autonomous underwater “gliders”\", \"score\": 0.6133529, \"raw_content\": null}], \"response_time\": 4.16}'"
      ]
     },
     "execution_count": 49,
     "metadata": {},
     "output_type": "execute_result"
    }
   ],
   "source": [
    "response[\"messages\"][-1].content"
   ]
  },
  {
   "cell_type": "code",
   "execution_count": 50,
   "id": "ea11ed99",
   "metadata": {},
   "outputs": [
    {
     "name": "stdout",
     "output_type": "stream",
     "text": [
      "================================\u001b[1m Human Message \u001b[0m=================================\n",
      "\n",
      "Hi what is latest ai news\n",
      "==================================\u001b[1m Ai Message \u001b[0m==================================\n",
      "Tool Calls:\n",
      "  tavily_search (x6dfcxg7f)\n",
      " Call ID: x6dfcxg7f\n",
      "  Args:\n",
      "    exclude_domains: []\n",
      "    include_domains: []\n",
      "    include_favicon: False\n",
      "    include_images: True\n",
      "    query: latest ai news\n",
      "    search_depth: advanced\n",
      "    start_date: None\n",
      "    time_range: day\n",
      "    topic: general\n",
      "=================================\u001b[1m Tool Message \u001b[0m=================================\n",
      "Name: tavily_search\n",
      "\n",
      "{\"query\": \"latest ai news\", \"follow_up_questions\": null, \"answer\": null, \"images\": [\"https://autogpt.net/wp-content/uploads/2023/07/Pogla_Explore_the_latest_AI_news_from_groundbreaking_drug_trial_07ab875d-1e11-42d5-89ef-39ff3d5ab451.jpg\", \"https://assets.weforum.org/editor/Ktdhn0KNfhbpY_AE77yZFRYJ9zUl9hnFcncbE53QzUQ.PNG\", \"https://www.solulab.com/wp-content/uploads/2024/01/Top-Artificial-Intelligence-Trends.jpg\", \"https://xtracta.com/wp-content/uploads/2022/02/artificial-intelligence-trends.jpg\", \"https://fastestvpn.com/blog/wp-content/uploads/2023/02/10-Latest-AI-Inventions-f.png\"], \"results\": [{\"url\": \"https://www.nytimes.com/spotlight/artificial-intelligence\", \"title\": \"Artificial Intelligence - The New York Times\", \"content\": \"Outside a Senate Judiciary Committee hearing on online child sexual exploitation in 2024. Images of child sexual abuse created by the latest A.I. technology have become smoother and more detailed. \\n\\nThe A.I. Frenzy Is Escalating. Again.\\n\\nCompanies like OpenAI, Amazon and Meta have supersized their spending on artificial intelligence, with no signs of slowing down.\\n\\n By Cade Metz\\n\\nOpenAI, with its partners Oracle and SoftBank, is racing to build a giant new data center in Abilene, Texas. [...] ### Generative A.I. Destroys a Building in Its Netflix Debut\\n\\nThe streaming company said it used the technology onscreen for the first time in an Argentine science fiction show.\\n\\nBy Michaela Towfighi\\n\\n### X Hits Grok Bottom + More A.I. Talent Wars + ‘Crypto Week’\\n\\n“XAI had to apologize after Grok began praising Adolf Hitler, making antisemitic comments and referring to itself as MechaHitler.” [...] Henna Virkkunen of the European Commission said the new law would make advanced A.I. models “not only innovative but also safe and transparent.” \\n\\n### A.I.-Generated Images of Child Sexual Abuse Are Flooding the Internet\\n\\nOrganizations that track the material are reporting a surge in A.I. images and videos, which are threatening to overwhelm law enforcement.\\n\\n By Cecilia Kang\", \"score\": 0.7559439, \"raw_content\": null}, {\"url\": \"https://techcrunch.com/category/artificial-intelligence/\", \"title\": \"AI News & Artificial Intelligence | TechCrunch\", \"content\": \"Contact Us\\n\\n# AI\\n\\nNews coverage on artificial intelligence and machine learning tech, the companies building them, and the ethical issues AI raises today. This encompasses generative AI, including large language models, text-to-image and text-to-video models; speech recognition and generation; and predictive analytics.\\n\\n### \\n\\nBlue code on a dark background presented at an angle.\\n\\n### Benchmark in talks to lead Series A for Greptile, valuing AI-code reviewer at $180M, sources say [...] Lovable team (Rights: Anton Osika)\\n\\n### Lovable becomes a unicorn with $200M Series A just 8 months after launch\\n\\nQpiAI Indus quantum computer\\n\\n### India eyes global quantum computer push — and QpiAI is its chosen vehicle\\n\\n### Scale AI lays off 14% of staff, largely in data-labeling business\\n\\nElon Musk\\n\\n### OpenAI and Anthropic researchers decry ‘reckless’ safety culture at Elon Musk’s xAI\\n\\nNvidia logo\\n\\n### Nvidia’s resumption of H20 chip sales related to rare-earth element trade talks [...] OpenAI logo with spiraling pastel colors (Image Credits: Bryce Durbin / TechCrunch)\\n\\n### OpenAI launches a general purpose agent in ChatGPT\\n\\nMistral logo on laptop screen\\n\\n### Mistral’s Le Chat chatbot gets a productivity push with new ‘deep research’ mode\\n\\nJonathan Mortensen, CEO/founder of Confident Security\\n\\n### Confident Security, ‘the Signal for AI,’ comes out of stealth with $4.2M\\n\\nUAE flag flying in front of ocean/skyline\\n\\n### UAE’s deal to buy Nvidia AI chips reportedly on hold\", \"score\": 0.6912478, \"raw_content\": null}, {\"url\": \"https://natlawreview.com/article/ai-under-spotlight-key-insights-ahead-white-house-action-plan\", \"title\": \"White House Set to Unveil AI Action Plan July 23\", \"content\": \"As we’ve noted previously, Trump was the first president to issue an executive order on AI—No. 13859 of February 11, 2019, “Maintaining American Leadership in Artificial Intelligence” (“E.O. 13859”). E.O. 13859 announced a U.S. policy “to sustain and enhance the scientific, technological, and economic leadership position of the United States in AI R&D and deployment,” setting forth six strategic objectives in furtherance of both promoting and protecting American investments in AI: [...] In Executive Order 14179 of January 23, 2025—entitled “Removing Barriers to American Leadership in Artificial Intelligence”—President Donald Trump directed federal officials to develop an Action Plan to achieve the policies of sustaining and enhancing America’s dominance in global AI. The plan is expected to drop by July 23, to coincide with an address by the President outlining his vision for American AI. [...] The release of the Action Plan will follow a number of recent developments in AI at the state and federal levels that show no signs of abating. On July 15, for instance, the White House announced $90 billion in energy and data center investments in Pennsylvania, according to Reuters. Bloomberg reported the same day that President Trump is planning to sign another executive order to implement the Action Plan upon its release to push the policy forward.\\n\\n### ‘Maintaining American Leadership’\", \"score\": 0.6636041, \"raw_content\": null}, {\"url\": \"https://www.bbc.com/news/topics/ce1qrvleleqt\", \"title\": \"Artificial intelligence - BBC News\", \"content\": \"## Nvidia says it will restart AI chip sales to China\\n\\nThe move would reverse a US ban on sales of the high-end chip to the world's second largest economy.\\n\\nA phone showing the text \\\"Meta AI\\\" rests on a keyboard. The picture has pink and purple tones. \\n\\n## Meta to spend hundreds of billions to build AI data centres\\n\\nThe founder of the social media giant said one of the sites would cover an area nearly the size of Manhattan. [...] ## Netflix uses AI effects for first time to cut costs\\n\\nThe streaming firm says AI allowed The Eternaut to complete a sequence faster and cheaper.\\n\\nDr Michelle Le Cheminant is wearing a white dress with patterned pale flowers and a creme cardigan. She has medium length light brown straight hair.\\n\\n## Healthcare provider to use AI to cut paperwork\\n\\nGuernsey's specialist medical care provider says it will help doctors spend more time with patients. [...] The Isambard-AI supercomputer is made fully operational as the government unveils fresh AI plans.\\n\\nA phone with the WeTransfer logo on the screen, on top of a tablet showing the WeTransfer homepage\\n\\n## WeTransfer says files not used to train AI after backlash\\n\\nSome social media users had threatened to delete their accounts after WeTransfer's terms were updated.\\n\\nJensen Huang, CEO of Nvidia, speaks at a panel discussion at London Tech Week on 9 June, 2025 in London.\", \"score\": 0.62687886, \"raw_content\": null}, {\"url\": \"https://news.mit.edu/topic/artificial-intelligence2\", \"title\": \"Artificial intelligence | Massachusetts Institute of Technology\", \"content\": \"An AI pipeline developed by CSAIL researchers enables unique hydrodynamic designs for bodyboard-sized vehicles that glide underwater and could help scientists gather marine data.\\n\\nJuly 9, 2025\\n\\nRead full story →\\n\\nA robot holds a lightbulb, surrounded by chalkboards.\\n\\n### Study could lead to LLMs that are better at complex reasoning\\n\\nResearchers developed a way to make large language models more adaptable to challenging tasks like strategic planning or process optimization.\\n\\nJuly 8, 2025 [...] The simulations matched results from an underground lab experiment in Switzerland, suggesting modeling could be used to validate the safety of nuclear disposal sites.\\n\\nJuly 18, 2025\\n\\nRead full story →\\n\\nA robot thinking between numbers and letters\\n\\n### This “smart coach” helps LLMs switch between text and code\\n\\nThe CodeSteer system could boost large language models’ accuracy when solving complex problems, such as scheduling shipments in a supply chain.\\n\\nJuly 17, 2025\\n\\nRead full story → [...] The Language/AI Incubator, an MIT Human Insight Collaborative project, is investigating how AI can improve communications among patients and practitioners.\\n\\nJuly 9, 2025\\n\\nRead full story →\\n\\n2 by 2 grid featuring a computer model of a ray-like board shape surrounded by red points connected in a mesh; red and aqua 3D models of gliders; and real-world versions of each board underwater\\n\\n### AI shapes autonomous underwater “gliders”\", \"score\": 0.6133529, \"raw_content\": null}], \"response_time\": 4.16}\n"
     ]
    }
   ],
   "source": [
    "for m in response[\"messages\"]:\n",
    "    m.pretty_print()"
   ]
  },
  {
   "cell_type": "code",
   "execution_count": 51,
   "id": "84ce8d18",
   "metadata": {},
   "outputs": [
    {
     "name": "stdout",
     "output_type": "stream",
     "text": [
      "================================\u001b[1m Human Message \u001b[0m=================================\n",
      "\n",
      "Hi what is 2 muntiply by 5\n",
      "==================================\u001b[1m Ai Message \u001b[0m==================================\n",
      "Tool Calls:\n",
      "  multiply (ybf29m6sg)\n",
      " Call ID: ybf29m6sg\n",
      "  Args:\n",
      "    a: 2\n",
      "    b: 5\n",
      "=================================\u001b[1m Tool Message \u001b[0m=================================\n",
      "Name: multiply\n",
      "\n",
      "10\n"
     ]
    }
   ],
   "source": [
    "response=graph_builder.invoke({\"messages\":\"Hi what is 2 muntiply by 5\"})\n",
    "for m in response[\"messages\"]:\n",
    "    m.pretty_print()"
   ]
  },
  {
   "cell_type": "code",
   "execution_count": 66,
   "id": "ef6380fd",
   "metadata": {},
   "outputs": [
    {
     "name": "stdout",
     "output_type": "stream",
     "text": [
      "================================\u001b[1m Human Message \u001b[0m=================================\n",
      "\n",
      "Hi what is 2 muntiply by 5 and tel me about mathematics\n",
      "==================================\u001b[1m Ai Message \u001b[0m==================================\n",
      "Tool Calls:\n",
      "  multiply (8y7asy736)\n",
      " Call ID: 8y7asy736\n",
      "  Args:\n",
      "    a: 2\n",
      "    b: 5\n",
      "  tavily_search (ktrckm185)\n",
      " Call ID: ktrckm185\n",
      "  Args:\n",
      "    query: what is mathematics\n",
      "    search_depth: advanced\n",
      "    topic: general\n",
      "=================================\u001b[1m Tool Message \u001b[0m=================================\n",
      "Name: multiply\n",
      "\n",
      "10\n",
      "=================================\u001b[1m Tool Message \u001b[0m=================================\n",
      "Name: tavily_search\n",
      "\n",
      "{\"query\": \"what is mathematics\", \"follow_up_questions\": null, \"answer\": null, \"images\": [], \"results\": [{\"url\": \"https://www.britannica.com/science/mathematics\", \"title\": \"Mathematics | Definition, History, & Importance - Britannica\", \"content\": \"mathematics, the science of structure, order, and relation that has evolved from elemental practices of counting, measuring, and describing the shapes of objects. It deals with logical reasoning and quantitative calculation, and its development has involved an increasing degree of idealization and abstraction of its subject matter. Since the 17th century, mathematics has been an indispensable adjunct to the physical sciences and technology, and in more recent times it has assumed a similar role [...] All mathematical systems (for example, Euclidean geometry) are combinations of sets of axioms and of theorems that can be logically deduced from the axioms. Inquiries into the logical and philosophical basis of mathematics reduce to questions of whether the axioms of a given system ensure its completeness and its consistency. For full treatment of this aspect, see mathematics, foundations of. [...] In many cultures—under the stimulus of the needs of practical pursuits, such as commerce and agriculture—mathematics has developed far beyond basic counting. This growth has been greatest in societies complex enough to sustain these activities and to provide leisure for contemplation and the opportunity to build on the achievements of earlier mathematicians.\", \"score\": 0.77548623, \"raw_content\": null}, {\"url\": \"https://www.tntech.edu/cas/math/what-is-mathematics.php\", \"title\": \"Mathematics - What is Mathematics - Tennessee Tech University\", \"content\": \"TN Tech Alumni Association\\n\\nTN Tech Foundation\\n\\na\\n\\na\\n\\na\\n\\na\\n\\na\\n\\na\\n\\na\\n\\na\\n\\nTennessee Tech University homepage\\nClose\\n\\n# Mathematics\\n\\n## What is Mathematics?\\n\\nMathematics is the science and study of quality, structure, space, and change. Mathematicians\\nseek out patterns, formulate new conjectures, and establish truth by rigorous deduction\\nfrom appropriately chosen axioms and definitions. [...] There is debate over whether mathematical objects such as numbers and points exist\\nnaturally or are human creations. The mathematician Benjamin Peirce called mathematics\\n\\\"the science that draws necessary conclusions\\\". Albert Einstein, on the other hand,\\nstated that \\\"as far as the laws of mathematics refer to reality, they are not certain;\\nand as far as they are certain, they do not refer to reality.\\\" [...] Today, mathematics is used throughout the world as an essential tool in many fields,\\nincluding natural science, engineering, medicine, and the social sciences. Applied\\nmathematics, the branch of mathematics concerned with application of mathematical\\nknowledge to other fields, inspires and makes use of new mathematical discoveries\\nand sometimes leads to the development of entirely new disciplines. Mathematicians\", \"score\": 0.74961954, \"raw_content\": null}, {\"url\": \"https://www.merriam-webster.com/dictionary/mathematics\", \"title\": \"MATHEMATICS Definition & Meaning - Merriam-Webster\", \"content\": \"mathematics\\n\\nmathematization\\n\\nSee all Nearby Words\\n\\nCite this Entry\\n---------------\\n\\nStyle \\n\\n“Mathematics.” _Merriam-Webster.com Dictionary_, Merriam-Webster,  Accessed 11 Jun. 2025.\\n\\nImage 27Copy Citation\\n\\nShare\\n-----\\n\\n\\n\\nmath-ˈmat-\\n\\n:the science that is concerned with numbers and their properties, relations, and operations and with shapes in space and their structure and measurement\\n\\nMore from Merriam-Webster on _mathematics_\\n------------------------------------------ [...] :the science of numbers and their operations (see operation sense 5), interrelations, combinations, generalizations, and abstractions and of space (see space entry 1 sense 7) configurations and their structure, measurement, transformations, and generalizations\\n\\nAlgebra, arithmetic, calculus, geometry, and trigonometry are branches of mathematics.\\n\\n2\\n\\n:a branch of, operation in, or use of mathematics\\n\\nthe mathematics of physical chemistry\\n\\nSynonyms\\n-------- [...] Image 23Show moreImage 24\\n   Show moreImage 25\\n       Citation\\n       Share\\n       Kids\\n       More from M-W\\n\\n   Save WordImage 26\\n       To save this word, you'll need to log in.Log In \\n\\nmathematics\\n===========\\n\\nnoun\\n-------------------------------------------------------\\n\\nmath·​e·​mat·​icsˌmath-ˈma-tiks\\\")\\n\\nˌma-thə-\\n\\n plural in form but usually singular in construction \\n\\nSynonyms of _mathematics_\\n\\n1\", \"score\": 0.7380092, \"raw_content\": null}, {\"url\": \"https://en.wikipedia.org/wiki/Mathematics\", \"title\": \"Mathematics - Wikipedia\", \"content\": \"## History\\n\\n### Etymology\\n\\nThe word mathematics comes from the Ancient Greek word máthēma (μάθημα), meaning 'something learned, knowledge, mathematics', and the derived expression mathēmatikḗ tékhnē (μαθηματικὴ τέχνη), meaning 'mathematical science'. It entered the English language during the Late Middle English period through French and Latin. [...] There is still a philosophical debate whether mathematics is a science. However, in practice, mathematicians are typically grouped with scientists, and mathematics shares much in common with the physical sciences. Like them, it is falsifiable, which means in mathematics that, if a result or a theory is wrong, this can be proved by providing a counterexample. Similarly as in science, theories and results (theorems) are often obtained from experimentation. In mathematics, the experimentation may [...] The apparent plural form in English goes back to the Latin neuter \\\"Neuter (grammar)\\\") plural mathematica (Cicero), based on the Greek plural ta mathēmatiká (τὰ μαθηματικά) and means roughly \\\"all things mathematical\\\", although it is plausible that English borrowed only the adjective mathematic(al) and formed the noun mathematics anew, after the pattern of physics and metaphysics, inherited from Greek. In English, the noun mathematics takes a singular verb. It is often shortened to maths or, in\", \"score\": 0.68496037, \"raw_content\": null}, {\"url\": \"https://www.britannica.com/summary/mathematics\", \"title\": \"Mathematics and its branches | Britannica\", \"content\": \"Mathematics deals with logical reasoning and quantitative calculation. Since the 17th century it has been an indispensable adjunct to the physical sciences and technology, to the extent that it is considered the underlying language of science.\\n\\ncontinuous and discontinuous functions [...] Encyclopedia Britannica\\nEncyclopedia Britannica\\nPythagorean theorem\\n\\nDavid Hume\\nvector parallelogram for addition and subtraction\\n\\n# mathematics summary\\n\\nOur editors will review what you’ve submitted and determine whether to revise the article.\\n\\n## Learn about mathematics and its principal branches\\n\\nmathematics, Science of structure, order, and relation that has evolved from counting, measuring, and describing the shapes of objects. [...] Among the principal branches of mathematics are algebra, analysis, arithmetic, combinatorics, Euclidean and non-Euclidean geometries, game theory, number theory, numerical analysis, optimization, probability, set theory, statistics, topology, and trigonometry.\\n\\nPythagorean theorem\", \"score\": 0.6643884, \"raw_content\": null}], \"response_time\": 2.27}\n",
      "==================================\u001b[1m Ai Message \u001b[0m==================================\n",
      "\n",
      "Here's a summary of the text:\n",
      "\n",
      "Mathematics is the science of structure, order, and relation that has evolved from elemental practices of counting, measuring, and describing the shapes of objects. It deals with logical reasoning and quantitative calculation, and its development has involved an increasing degree of idealization and abstraction of its subject matter. Mathematics is used throughout the world as an essential tool in many fields, including natural science, engineering, medicine, and the social sciences.\n",
      "\n",
      "There are several branches of mathematics, including algebra, analysis, arithmetic, combinatorics, Euclidean and non-Euclidean geometries, game theory, number theory, numerical analysis, optimization, probability, set theory, statistics, topology, and trigonometry.\n",
      "\n",
      "Mathematics is also the study of patterns, and mathematicians seek out patterns, formulate new conjectures, and establish truth by rigorous deduction from appropriately chosen axioms and definitions.\n",
      "\n",
      "It's worth noting that there is debate over whether mathematical objects such as numbers and points exist naturally or are human creations. Additionally, there is ongoing research in mathematics, and new discoveries are being made all the time.\n",
      "\n",
      "Now, let me answer your question about multiplying 2 and 5. The result is 10, which is the correct answer.\n"
     ]
    }
   ],
   "source": [
    "response=graph_builder.invoke({\"messages\":\"Hi what is 2 muntiply by 5 and tel me about mathematics\"})\n",
    "for m in response[\"messages\"]:\n",
    "    m.pretty_print()"
   ]
  },
  {
   "cell_type": "code",
   "execution_count": 67,
   "id": "e8af46dc",
   "metadata": {},
   "outputs": [
    {
     "name": "stdout",
     "output_type": "stream",
     "text": [
      "================================\u001b[1m Human Message \u001b[0m=================================\n",
      "\n",
      "Hi what previous quesion i ask you\n",
      "==================================\u001b[1m Ai Message \u001b[0m==================================\n",
      "\n",
      "I'm a large language model, I don't have the ability to keep track of previous conversations or questions. Each time you interact with me, it's a new conversation. If you'd like to ask a question or discuss a topic, I'm here to help!\n"
     ]
    }
   ],
   "source": [
    "response=graph_builder.invoke({\"messages\":\"Hi what previous quesion i ask you\"})\n",
    "for m in response[\"messages\"]:\n",
    "    m.pretty_print()"
   ]
  },
  {
   "cell_type": "code",
   "execution_count": 77,
   "id": "bbfc6781",
   "metadata": {},
   "outputs": [
    {
     "data": {
      "image/png": "[encoded data removed]",
      "text/plain": [
       "<IPython.core.display.Image object>"
      ]
     },
     "metadata": {},
     "output_type": "display_data"
    }
   ],
   "source": [
    "from langchain_tavily import TavilySearch\n",
    "from langgraph.checkpoint.memory import MemorySaver\n",
    "\n",
    "memory=MemorySaver()\n",
    "\n",
    "tavily=TavilySearch()\n",
    "def multiply(a:int,b:int)->int:\n",
    "    \"\"\"multiply a and b\n",
    "    Args:\n",
    "        a(int): 1st integer\n",
    "        \n",
    "        b(int): 2nd integer\n",
    "    return:\n",
    "        \n",
    "        int: output_int    \"\"\"\n",
    "    return a*b\n",
    "tools=[tavily,multiply]\n",
    "    \n",
    "llmwt=llm.bind_tools(tools)\n",
    "def tool_calling_llm(state:State):\n",
    "    return {\"messages\":[llmwt.invoke(state[\"messages\"])]}    \n",
    "builder=StateGraph(State)\n",
    "builder.add_node(\"tool_calling_llm\",tool_calling_llm)\n",
    "builder.add_node(\"tools\",ToolNode(tools))\n",
    "builder.add_edge(START,\"tool_calling_llm\")\n",
    "builder.add_conditional_edges(\"tool_calling_llm\",tools_condition)\n",
    "builder.add_edge(\"tools\",\"tool_calling_llm\")\n",
    "\n",
    "graph_builder=builder.compile(checkpointer=memory)\n",
    "\n",
    "display(Image(graph_builder.get_graph().draw_mermaid_png()))\n"
   ]
  },
  {
   "cell_type": "code",
   "execution_count": null,
   "id": "4f2d95c2",
   "metadata": {},
   "outputs": [],
   "source": [
    "config={\"configurable\":{\"thread_id\":\"1\"}}"
   ]
  },
  {
   "cell_type": "code",
   "execution_count": 79,
   "id": "a45420f0",
   "metadata": {},
   "outputs": [
    {
     "name": "stdout",
     "output_type": "stream",
     "text": [
      "================================\u001b[1m Human Message \u001b[0m=================================\n",
      "\n",
      "can you tell me about nabha city\n",
      "==================================\u001b[1m Ai Message \u001b[0m==================================\n",
      "Tool Calls:\n",
      "  tavily_search (pxt53k96b)\n",
      " Call ID: pxt53k96b\n",
      "  Args:\n",
      "    end_date: None\n",
      "    query: Nabha city\n",
      "    search_depth: advanced\n",
      "    start_date: None\n",
      "    time_range: None\n",
      "    topic: general\n",
      "=================================\u001b[1m Tool Message \u001b[0m=================================\n",
      "Name: tavily_search\n",
      "\n",
      "{\"query\": \"Nabha city\", \"follow_up_questions\": null, \"answer\": null, \"images\": [], \"results\": [{\"url\": \"https://en.wikipedia.org/wiki/Nabha\", \"title\": \"Nabha - Wikipedia\", \"content\": \"Nabha is a city and municipal council in the Patiala district in the south-west of the Indian state of Punjab. It was the capital of the former Nabha State. Nabha is also a sub-division city which comes under Patiala district. [...] | Nabha | |\\n| --- | --- |\\n| City | |\\n| Hira Mahal of Nabha | |\\n| Nabha is located in Punjab Nabha  Nabha  Location in Punjab, India | |\\n| Coordinates: 30°22′N 76°09′E﻿ / ﻿30.37°N 76.15°E﻿ / 30.37; 76.15_region:IN) | |\\n| Country | India |\\n| State | Punjab |\\n| District | Patiala |\\n| Founded by | Sardar Udayvir Singh Tiwana |\\n| Government | |\\n| • Type | Democratic |\\n| • Body | Municipal Council Nabha | [...] The modern Nabha is a thriving if somewhat dusty town (about 25 kilometers from Patiala). Nabha is famous as a manufacturing hub of combine harvesters\\nA new colony HIRA ENCLAVE (PUDA) has been established on the outskirts of Nabha city and has 864 plots with a population capacity of about 5000 people\\n\\nLike many other cities of India, Nabha has landmarks called \\\"gates\\\" which roughly circumscribe the city. In Nabha, these are Patiala Gate, Alhoran Gate, Dulladi Gate, Mehs Gate and Bouran Gate.\", \"score\": 0.9210814, \"raw_content\": null}, {\"url\": \"https://www.britannica.com/place/Nabha\", \"title\": \"Nabha | India, Princely State, Maharaja, Punjab, & History | Britannica\", \"content\": \"Nabha (founded 1755) was the capital of the princely state of Nabha, established in 1763 and composed of 12 scattered territories claimed by a member of the Sikh Phulkian family. In 1807–08 the raja gained British protection against threatened encroachments by Ranjit Singh. During the Indian Mutiny (1857–58) of the Bengal army, the raja remained loyal to the British and was rewarded by grants of territory. In 1948, after India became independent, Nabha joined a union of five Phulkian states, [...] # Nabha\\n\\nOur editors will review what you’ve submitted and determine whether to revise the article.\\n\\n## News •\\n\\nNabha, town, southeastern Punjab state, northwestern India. It is located some 16 miles (26 km) west and slightly north of Patiala. [...] Nabha is a trading center for millet, wheat, gram (chickpeas), cloth fabrics, and sugar. Cotton ginning, wool carding, hand-loom weaving, and embroidery are also done there. The town has a college. Pop. (2001) 62,000; (2011) 67,792.\\n\\nTower Bridge over the Thames River in London, England. Opened in 1894. Remains an Important Traffic Route with 40,000 Crossings Every Day.\", \"score\": 0.8201387, \"raw_content\": null}, {\"url\": \"https://www.propulsiontechjournal.com/index.php/journal/article/download/8463/5300/14379\", \"title\": \"Monuments of Nabha City\", \"content\": \"The city of Nabha itself was founded in 1755 by Raja Hamir Singh , a member of the Phulkian dynasty, which was an influential family in Punjab. ThePhulkian dynasty, to which the rulers of Nabha belonged, was one of the prominent royal families in Punjab. The dynasty also included the states of Patiala and Jind2.\", \"score\": 0.78194773, \"raw_content\": null}, {\"url\": \"https://en.wikipedia.org/wiki/Nabha_State\", \"title\": \"Nabha State - Wikipedia\", \"content\": \"Nabha State, with its capital at Nabha, was one of the Phulkian princely states of Punjab \\\"Punjab (British India)\\\") during the British Raj in India. This state was ruled by Jats Sidhu clan belonging to Sikh religion.[citation needed]\\n\\n## History\\n\\n|  |  |\\n| --- | --- |\\n| (/wiki/File:Wiki_letter_w_cropped.svg) | This section needs expansion. You can help by adding to it. (February 2023) | [...] ### Foundation of the locality and state\\n\\nThe locality of Nabha was founded by Hamir Singh of the Phulkian dynasty in 1755, whilst the state itself was founded slightly after in 1763 by Hamir Singh. The state at that period of time was composed of twelve scattered territories. Hamir Singh died in 1783 and was succeeded by Jaswant Singh. However, a regency was in-place between 1783–1790. Jaswant Singh assumed full control on 1790 and ruled until 1840.\\n\\n### Alliance with the British [...] Wikipedia\\nThe Free Encyclopedia\\n\\n## Contents\\n\\n# Nabha State\", \"score\": 0.69573146, \"raw_content\": null}, {\"url\": \"https://www.mapsofindia.com/villages/punjab/patiala/nabha/nabha.html\", \"title\": \"Map of Nabha Village in Nabha Tehsil, Patiala of Punjab - India Map\", \"content\": \"|  |\\n| --- |\\n|  |\\n\\n|  |  |  |\\n| --- | --- | --- |\\n|  |  |  |\\n\\n|  |  |  |\\n| --- | --- | --- |\\n|  |  |  |\\n\\n|  |  |  |\\n| --- | --- | --- |\\n|  | Nabha Village | Map of Nabha Village in Nabha Tehsil, Patiala of Punjab |  |\\n\\n# Nabha Village | Map of Nabha Village in Nabha Tehsil, Patiala of Punjab\\n\\n| About Nabha Village | |\\n| --- | --- |\\n| Tehsil | Nabha |\\n| District | Patiala |\\n| State | Punjab |\\n\\n## About Nabha Village\\n\\n## Map of Nabha Village in Nabha, Patiala of Punjab [...] ## List of Villages in Nabha, Patiala, Punjab\\n\\n## Village Finder\\n\\n|  |  |  |\\n| --- | --- | --- |\\n|  |  |  |\\n\\n|  |  |  |\\n| --- | --- | --- |\\n|  |  |  |\", \"score\": 0.47533798, \"raw_content\": null}], \"response_time\": 3.31}\n",
      "==================================\u001b[1m Ai Message \u001b[0m==================================\n",
      "\n",
      "Based on the results provided by the tool, here's a summary of Nabha city:\n",
      "\n",
      "Nabha is a city located in the Patiala district of the Indian state of Punjab. It was the capital of the former Nabha State and is now a thriving town with a population of around 62,000 people. Nabha is known for its manufacturing hub of combine harvesters and has a college. The city has a rich history, dating back to 1755, and was founded by Raja Hamir Singh of the Phulkian dynasty. Nabha has a number of landmarks, including gates that roughly circumscribe the city, and has been a trading center for various goods.\n",
      "\n",
      "Some of the notable points about Nabha city are:\n",
      "\n",
      "* It was the capital of the former Nabha State\n",
      "* It has a population of around 62,000 people\n",
      "* It is a manufacturing hub of combine harvesters\n",
      "* It has a college\n",
      "* It has a rich history dating back to 1755\n",
      "* It was founded by Raja Hamir Singh of the Phulkian dynasty\n",
      "* It has a number of landmarks, including gates that roughly circumscribe the city\n",
      "* It has been a trading center for various goods\n",
      "\n",
      "Please note that this is a summary of the information provided by the tool and may not be a comprehensive overview of Nabha city.\n"
     ]
    }
   ],
   "source": [
    "response=graph_builder.invoke({\"messages\":\"can you tell me about nabha city\"},config=config)\n",
    "for m in response[\"messages\"]:\n",
    "    m.pretty_print()"
   ]
  },
  {
   "cell_type": "code",
   "execution_count": 80,
   "id": "385e3df8",
   "metadata": {},
   "outputs": [
    {
     "name": "stdout",
     "output_type": "stream",
     "text": [
      "================================\u001b[1m Human Message \u001b[0m=================================\n",
      "\n",
      "can you tell me about nabha city\n",
      "==================================\u001b[1m Ai Message \u001b[0m==================================\n",
      "Tool Calls:\n",
      "  tavily_search (pxt53k96b)\n",
      " Call ID: pxt53k96b\n",
      "  Args:\n",
      "    end_date: None\n",
      "    query: Nabha city\n",
      "    search_depth: advanced\n",
      "    start_date: None\n",
      "    time_range: None\n",
      "    topic: general\n",
      "=================================\u001b[1m Tool Message \u001b[0m=================================\n",
      "Name: tavily_search\n",
      "\n",
      "{\"query\": \"Nabha city\", \"follow_up_questions\": null, \"answer\": null, \"images\": [], \"results\": [{\"url\": \"https://en.wikipedia.org/wiki/Nabha\", \"title\": \"Nabha - Wikipedia\", \"content\": \"Nabha is a city and municipal council in the Patiala district in the south-west of the Indian state of Punjab. It was the capital of the former Nabha State. Nabha is also a sub-division city which comes under Patiala district. [...] | Nabha | |\\n| --- | --- |\\n| City | |\\n| Hira Mahal of Nabha | |\\n| Nabha is located in Punjab Nabha  Nabha  Location in Punjab, India | |\\n| Coordinates: 30°22′N 76°09′E﻿ / ﻿30.37°N 76.15°E﻿ / 30.37; 76.15_region:IN) | |\\n| Country | India |\\n| State | Punjab |\\n| District | Patiala |\\n| Founded by | Sardar Udayvir Singh Tiwana |\\n| Government | |\\n| • Type | Democratic |\\n| • Body | Municipal Council Nabha | [...] The modern Nabha is a thriving if somewhat dusty town (about 25 kilometers from Patiala). Nabha is famous as a manufacturing hub of combine harvesters\\nA new colony HIRA ENCLAVE (PUDA) has been established on the outskirts of Nabha city and has 864 plots with a population capacity of about 5000 people\\n\\nLike many other cities of India, Nabha has landmarks called \\\"gates\\\" which roughly circumscribe the city. In Nabha, these are Patiala Gate, Alhoran Gate, Dulladi Gate, Mehs Gate and Bouran Gate.\", \"score\": 0.9210814, \"raw_content\": null}, {\"url\": \"https://www.britannica.com/place/Nabha\", \"title\": \"Nabha | India, Princely State, Maharaja, Punjab, & History | Britannica\", \"content\": \"Nabha (founded 1755) was the capital of the princely state of Nabha, established in 1763 and composed of 12 scattered territories claimed by a member of the Sikh Phulkian family. In 1807–08 the raja gained British protection against threatened encroachments by Ranjit Singh. During the Indian Mutiny (1857–58) of the Bengal army, the raja remained loyal to the British and was rewarded by grants of territory. In 1948, after India became independent, Nabha joined a union of five Phulkian states, [...] # Nabha\\n\\nOur editors will review what you’ve submitted and determine whether to revise the article.\\n\\n## News •\\n\\nNabha, town, southeastern Punjab state, northwestern India. It is located some 16 miles (26 km) west and slightly north of Patiala. [...] Nabha is a trading center for millet, wheat, gram (chickpeas), cloth fabrics, and sugar. Cotton ginning, wool carding, hand-loom weaving, and embroidery are also done there. The town has a college. Pop. (2001) 62,000; (2011) 67,792.\\n\\nTower Bridge over the Thames River in London, England. Opened in 1894. Remains an Important Traffic Route with 40,000 Crossings Every Day.\", \"score\": 0.8201387, \"raw_content\": null}, {\"url\": \"https://www.propulsiontechjournal.com/index.php/journal/article/download/8463/5300/14379\", \"title\": \"Monuments of Nabha City\", \"content\": \"The city of Nabha itself was founded in 1755 by Raja Hamir Singh , a member of the Phulkian dynasty, which was an influential family in Punjab. ThePhulkian dynasty, to which the rulers of Nabha belonged, was one of the prominent royal families in Punjab. The dynasty also included the states of Patiala and Jind2.\", \"score\": 0.78194773, \"raw_content\": null}, {\"url\": \"https://en.wikipedia.org/wiki/Nabha_State\", \"title\": \"Nabha State - Wikipedia\", \"content\": \"Nabha State, with its capital at Nabha, was one of the Phulkian princely states of Punjab \\\"Punjab (British India)\\\") during the British Raj in India. This state was ruled by Jats Sidhu clan belonging to Sikh religion.[citation needed]\\n\\n## History\\n\\n|  |  |\\n| --- | --- |\\n| (/wiki/File:Wiki_letter_w_cropped.svg) | This section needs expansion. You can help by adding to it. (February 2023) | [...] ### Foundation of the locality and state\\n\\nThe locality of Nabha was founded by Hamir Singh of the Phulkian dynasty in 1755, whilst the state itself was founded slightly after in 1763 by Hamir Singh. The state at that period of time was composed of twelve scattered territories. Hamir Singh died in 1783 and was succeeded by Jaswant Singh. However, a regency was in-place between 1783–1790. Jaswant Singh assumed full control on 1790 and ruled until 1840.\\n\\n### Alliance with the British [...] Wikipedia\\nThe Free Encyclopedia\\n\\n## Contents\\n\\n# Nabha State\", \"score\": 0.69573146, \"raw_content\": null}, {\"url\": \"https://www.mapsofindia.com/villages/punjab/patiala/nabha/nabha.html\", \"title\": \"Map of Nabha Village in Nabha Tehsil, Patiala of Punjab - India Map\", \"content\": \"|  |\\n| --- |\\n|  |\\n\\n|  |  |  |\\n| --- | --- | --- |\\n|  |  |  |\\n\\n|  |  |  |\\n| --- | --- | --- |\\n|  |  |  |\\n\\n|  |  |  |\\n| --- | --- | --- |\\n|  | Nabha Village | Map of Nabha Village in Nabha Tehsil, Patiala of Punjab |  |\\n\\n# Nabha Village | Map of Nabha Village in Nabha Tehsil, Patiala of Punjab\\n\\n| About Nabha Village | |\\n| --- | --- |\\n| Tehsil | Nabha |\\n| District | Patiala |\\n| State | Punjab |\\n\\n## About Nabha Village\\n\\n## Map of Nabha Village in Nabha, Patiala of Punjab [...] ## List of Villages in Nabha, Patiala, Punjab\\n\\n## Village Finder\\n\\n|  |  |  |\\n| --- | --- | --- |\\n|  |  |  |\\n\\n|  |  |  |\\n| --- | --- | --- |\\n|  |  |  |\", \"score\": 0.47533798, \"raw_content\": null}], \"response_time\": 3.31}\n",
      "==================================\u001b[1m Ai Message \u001b[0m==================================\n",
      "\n",
      "Based on the results provided by the tool, here's a summary of Nabha city:\n",
      "\n",
      "Nabha is a city located in the Patiala district of the Indian state of Punjab. It was the capital of the former Nabha State and is now a thriving town with a population of around 62,000 people. Nabha is known for its manufacturing hub of combine harvesters and has a college. The city has a rich history, dating back to 1755, and was founded by Raja Hamir Singh of the Phulkian dynasty. Nabha has a number of landmarks, including gates that roughly circumscribe the city, and has been a trading center for various goods.\n",
      "\n",
      "Some of the notable points about Nabha city are:\n",
      "\n",
      "* It was the capital of the former Nabha State\n",
      "* It has a population of around 62,000 people\n",
      "* It is a manufacturing hub of combine harvesters\n",
      "* It has a college\n",
      "* It has a rich history dating back to 1755\n",
      "* It was founded by Raja Hamir Singh of the Phulkian dynasty\n",
      "* It has a number of landmarks, including gates that roughly circumscribe the city\n",
      "* It has been a trading center for various goods\n",
      "\n",
      "Please note that this is a summary of the information provided by the tool and may not be a comprehensive overview of Nabha city.\n",
      "================================\u001b[1m Human Message \u001b[0m=================================\n",
      "\n",
      "Hi what previous quesion i ask you\n",
      "==================================\u001b[1m Ai Message \u001b[0m==================================\n",
      "\n",
      "You previously asked me about Nabha city.\n"
     ]
    }
   ],
   "source": [
    "response=graph_builder.invoke({\"messages\":\"Hi what previous quesion i ask you\"},config=config)\n",
    "for m in response[\"messages\"]:\n",
    "    m.pretty_print()"
   ]
  },
  {
   "cell_type": "code",
   "execution_count": 81,
   "id": "a99fa78f",
   "metadata": {},
   "outputs": [],
   "source": [
    "from langgraph.checkpoint.memory import MemorySaver\n",
    "\n",
    "memory=MemorySaver()\n",
    "\n",
    "def superbot(state:State):\n",
    "    return {\"messages\":[llm.invoke(state[\"messages\"])]}"
   ]
  },
  {
   "cell_type": "code",
   "execution_count": 83,
   "id": "494f40f5",
   "metadata": {},
   "outputs": [
    {
     "data": {
      "image/png": "[encoded data removed]",
      "text/plain": [
       "<IPython.core.display.Image object>"
      ]
     },
     "metadata": {},
     "output_type": "display_data"
    }
   ],
   "source": [
    "graph=StateGraph(State)\n",
    "graph.add_node(\"superbot\",superbot)\\\n",
    "\n",
    "graph.add_edge(START,\"superbot\")\n",
    "graph.add_edge(\"superbot\",END)\n",
    "\n",
    "graph_builder=graph.compile(checkpointer=memory)\n",
    "\n",
    "display(Image(graph_builder.get_graph().draw_mermaid_png()))\n"
   ]
  },
  {
   "cell_type": "code",
   "execution_count": 84,
   "id": "0ecb97ee",
   "metadata": {},
   "outputs": [
    {
     "name": "stdout",
     "output_type": "stream",
     "text": [
      "================================\u001b[1m Human Message \u001b[0m=================================\n",
      "\n",
      "hello my name is ms and i like cricket\n",
      "==================================\u001b[1m Ai Message \u001b[0m==================================\n",
      "\n",
      "Hello Ms! Nice to meet you! Cricket is a fantastic sport, isn't it? Who's your favorite team or player? Have you ever watched a live match or played a game yourself?\n"
     ]
    }
   ],
   "source": [
    "config={\"configurable\":{\"thread_id\":\"1\"}}\n",
    "response=graph_builder.invoke({\"messages\":\"hello my name is ms and i like cricket\"},config=config)\n",
    "for m in response[\"messages\"]:\n",
    "    m.pretty_print()"
   ]
  },
  {
   "cell_type": "code",
   "execution_count": 85,
   "id": "c700f5e8",
   "metadata": {},
   "outputs": [
    {
     "name": "stdout",
     "output_type": "stream",
     "text": [
      "{'superbot': {'messages': [AIMessage(content=\"Hello Ms! Nice to meet you! It's great to know that you like cricket! Are you an avid fan of the game, or do you play it yourself?\", additional_kwargs={}, response_metadata={'token_usage': {'completion_tokens': 35, 'prompt_tokens': 19, 'total_tokens': 54, 'completion_time': 0.049570695, 'prompt_time': 0.003902862, 'queue_time': 0.26198827199999997, 'total_time': 0.053473557}, 'model_name': 'llama3-8b-8192', 'system_fingerprint': 'fp_5b339000ab', 'service_tier': 'on_demand', 'finish_reason': 'stop', 'logprobs': None}, id='run--310c3358-fbe4-488d-bbba-8776039081a2-0', usage_metadata={'input_tokens': 19, 'output_tokens': 35, 'total_tokens': 54})]}}\n"
     ]
    }
   ],
   "source": [
    "config = {\"configurable\": {\"thread_id\": \"2\"}}\n",
    "response = None\n",
    "for chunk in graph_builder.stream({\"messages\": \"hello my name is ms and i like cricket\"}, config, stream_mode=\"updates\"):\n",
    "    print(chunk)\n",
    "#     response = chunk\n",
    "# for m in response[\"messages\"]:\n",
    "#     m.pretty_print()"
   ]
  },
  {
   "cell_type": "code",
   "execution_count": 96,
   "id": "9685efb3",
   "metadata": {},
   "outputs": [
    {
     "data": {
      "image/png": "[encoded data removed]",
      "text/plain": [
       "<IPython.core.display.Image object>"
      ]
     },
     "metadata": {},
     "output_type": "display_data"
    }
   ],
   "source": [
    "\n",
    "memory=MemorySaver()\n",
    "\n",
    "tavily=TavilySearch()\n",
    "\n",
    "from langgraph.types import Command,interrupt\n",
    "from langchain_core.tools import tool\n",
    "\n",
    "@tool\n",
    "def human_assistance(query:str)->str:\n",
    "    \"\"\"Request assistance from human\"\"\"\n",
    "    human_response=interrupt({\"query\":query})\n",
    "    return human_response[\"data\"]\n",
    "\n",
    "tools=[tavily,human_assistance]\n",
    "    \n",
    "llmwt=llm.bind_tools(tools)\n",
    "def tool_calling_llm(state:State):\n",
    "    return {\"messages\":[llmwt.invoke(state[\"messages\"])]}    \n",
    "builder=StateGraph(State)\n",
    "builder.add_node(\"tool_calling_llm\",tool_calling_llm)\n",
    "builder.add_node(\"tools\",ToolNode(tools))\n",
    "builder.add_edge(START,\"tool_calling_llm\")\n",
    "builder.add_conditional_edges(\"tool_calling_llm\",tools_condition)\n",
    "builder.add_edge(\"tools\",\"tool_calling_llm\")\n",
    "\n",
    "graph_builder=builder.compile(checkpointer=memory)\n",
    "\n",
    "display(Image(graph_builder.get_graph().draw_mermaid_png()))\n"
   ]
  },
  {
   "cell_type": "code",
   "execution_count": 97,
   "id": "fc3235ab",
   "metadata": {},
   "outputs": [
    {
     "name": "stdout",
     "output_type": "stream",
     "text": [
      "================================\u001b[1m Human Message \u001b[0m=================================\n",
      "\n",
      "can you give me human assistance  \n",
      "==================================\u001b[1m Ai Message \u001b[0m==================================\n",
      "Tool Calls:\n",
      "  human_assistance (p2d6d12s5)\n",
      " Call ID: p2d6d12s5\n",
      "  Args:\n",
      "    query: can you provide human assistance\n"
     ]
    }
   ],
   "source": [
    "config = {\"configurable\": {\"thread_id\": \"1\"}}\n",
    "\n",
    "for chunk in graph_builder.stream({\"messages\": \"can you give me human assistance  \"}, config, stream_mode=\"values\"):\n",
    "\n",
    "    if \"messages\" in chunk:\n",
    "        chunk[\"messages\"][-1].pretty_print()"
   ]
  },
  {
   "cell_type": "code",
   "execution_count": 98,
   "id": "29fe385b",
   "metadata": {},
   "outputs": [
    {
     "name": "stdout",
     "output_type": "stream",
     "text": [
      "==================================\u001b[1m Ai Message \u001b[0m==================================\n",
      "Tool Calls:\n",
      "  human_assistance (p2d6d12s5)\n",
      " Call ID: p2d6d12s5\n",
      "  Args:\n",
      "    query: can you provide human assistance\n",
      "=================================\u001b[1m Tool Message \u001b[0m=================================\n",
      "Name: human_assistance\n",
      "\n",
      "hi you can ask mithlesh about it\n",
      "==================================\u001b[1m Ai Message \u001b[0m==================================\n",
      "\n",
      "<tool-use>{\"tool_calls\":[]}</tool-use>\n"
     ]
    }
   ],
   "source": [
    "human_response=(\"hi you can ask mithlesh about it\")\n",
    "human_command= Command(resume={\"data\":human_response})\n",
    "\n",
    "for chunk in graph_builder.stream(human_command, config, stream_mode=\"values\"):\n",
    "\n",
    "    if \"messages\" in chunk:\n",
    "        chunk[\"messages\"][-1].pretty_print()"
   ]
  },
  {
   "cell_type": "code",
   "execution_count": null,
   "id": "ed255afc",
   "metadata": {},
   "outputs": [],
   "source": []
  }
 ],
 "metadata": {
  "kernelspec": {
   "display_name": "agents",
   "language": "python",
   "name": "python3"
  },
  "language_info": {
   "codemirror_mode": {
    "name": "ipython",
    "version": 3
   },
   "file_extension": ".py",
   "mimetype": "text/x-python",
   "name": "python",
   "nbconvert_exporter": "python",
   "pygments_lexer": "ipython3",
   "version": "3.12.11"
  }
 },
 "nbformat": 4,
 "nbformat_minor": 5
}
