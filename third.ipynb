{
 "cells": [
  {
   "cell_type": "code",
   "execution_count": null,
   "id": "8eca7d2d",
   "metadata": {},
   "outputs": [],
   "source": [
    "from typing_extensions import TypedDict\n",
    "\n",
    "class State(TypedDict):\n",
    "    graph_info:str\n"
   ]
  },
  {
   "cell_type": "code",
   "execution_count": 3,
   "id": "de4201d1",
   "metadata": {},
   "outputs": [],
   "source": [
    "def start_play(state:State):\n",
    "    print(\"start play node\")\n",
    "    return {\"graph_info\":state[\"graph_info\"]+\"i am planning to play\"}\n",
    "\n",
    "def Cricket(state:State):\n",
    "    print(\"cricket play node\")\n",
    "    return {\"graph_info\":state[\"graph_info\"]+\"i am decided to play cricket\"}    \n",
    "\n",
    "\n",
    "def Badminton(state:State):\n",
    "    print(\"badminton play node\")\n",
    "    return {\"graph_info\":state[\"graph_info\"]+\"i am decided to play badminton\"}        "
   ]
  },
  {
   "cell_type": "code",
   "execution_count": 4,
   "id": "5e4bee33",
   "metadata": {},
   "outputs": [],
   "source": [
    "import random\n",
    "from typing import Literal\n",
    "\n",
    "def random_play(state:State)->Literal['Cricket','Badminton']:\n",
    "    if random.random()>0.5:\n",
    "        return 'Cricket'\n",
    "    else:\n",
    "        return'Badminton'"
   ]
  },
  {
   "cell_type": "code",
   "execution_count": null,
   "id": "ccd2d43a",
   "metadata": {},
   "outputs": [],
   "source": [
    "from IPython.display import Image,display\n",
    "from langgraph.graph import StateGraph,START,END\n",
    "\n",
    "graph=StateGraph(State)\n",
    "graph.add_node(\"start_play\",start_play)\n",
    "graph.add_node(\"Cricket\",Cricket)\n",
    "graph.add_node(\"Badminton\",Badminton)\n",
    "\n",
    "graph.add_edge(START,\"start_play\")\n",
    "graph.add_conditional_edges(\"start_play\",random_play)\n",
    "\n",
    "graph.add_edge(\"Cricket\",END)\n",
    "graph.add_edge(\"Badminton\",END)\n",
    "graph_builder=graph.compile()\n",
    "\n",
    "\n"
   ]
  },
  {
   "cell_type": "code",
   "execution_count": 6,
   "id": "046ec891",
   "metadata": {},
   "outputs": [
    {
     "data": {
      "image/png": "[encoded data removed]",
      "text/plain": [
       "<IPython.core.display.Image object>"
      ]
     },
     "metadata": {},
     "output_type": "display_data"
    }
   ],
   "source": [
    "display(Image(graph_builder.get_graph().draw_mermaid_png()))"
   ]
  },
  {
   "cell_type": "code",
   "execution_count": 7,
   "id": "256a14fb",
   "metadata": {},
   "outputs": [
    {
     "name": "stdout",
     "output_type": "stream",
     "text": [
      "start play node\n",
      "badminton play node\n"
     ]
    },
    {
     "data": {
      "text/plain": [
       "{'graph_info': 'my name is mithleshi am planning to playi am decided to play badminton'}"
      ]
     },
     "execution_count": 7,
     "metadata": {},
     "output_type": "execute_result"
    }
   ],
   "source": [
    "graph_builder.invoke({\"graph_info\":\"my name is mithlesh\"})"
   ]
  },
  {
   "cell_type": "code",
   "execution_count": null,
   "id": "7dae766f",
   "metadata": {},
   "outputs": [
    {
     "name": "stderr",
     "output_type": "stream",
     "text": [
      "Adding an edge to a graph that has already been compiled. This will not be reflected in the compiled graph.\n"
     ]
    },
    {
     "ename": "TypeError",
     "evalue": "'function' object is not iterable",
     "output_type": "error",
     "traceback": [
      "\u001b[31m---------------------------------------------------------------------------\u001b[39m",
      "\u001b[31mTypeError\u001b[39m                                 Traceback (most recent call last)",
      "\u001b[36mCell\u001b[39m\u001b[36m \u001b[39m\u001b[32mIn[8]\u001b[39m\u001b[32m, line 1\u001b[39m\n\u001b[32m----> \u001b[39m\u001b[32m1\u001b[39m \u001b[43mgraph\u001b[49m\u001b[43m.\u001b[49m\u001b[43madd_edge\u001b[49m\u001b[43m(\u001b[49m\u001b[43mrandom_play\u001b[49m\u001b[43m,\u001b[49m\u001b[43mEND\u001b[49m\u001b[43m)\u001b[49m\n",
      "\u001b[36mFile \u001b[39m\u001b[32mc:\\Users\\mithlesh singla\\AppData\\Local\\Programs\\Python\\Python311\\Lib\\site-packages\\langgraph\\graph\\state.py:590\u001b[39m, in \u001b[36mStateGraph.add_edge\u001b[39m\u001b[34m(self, start_key, end_key)\u001b[39m\n\u001b[32m    587\u001b[39m     \u001b[38;5;28mself\u001b[39m.edges.add((start_key, end_key))\n\u001b[32m    588\u001b[39m     \u001b[38;5;28;01mreturn\u001b[39;00m \u001b[38;5;28mself\u001b[39m\n\u001b[32m--> \u001b[39m\u001b[32m590\u001b[39m \u001b[43m\u001b[49m\u001b[38;5;28;43;01mfor\u001b[39;49;00m\u001b[43m \u001b[49m\u001b[43mstart\u001b[49m\u001b[43m \u001b[49m\u001b[38;5;129;43;01min\u001b[39;49;00m\u001b[43m \u001b[49m\u001b[43mstart_key\u001b[49m\u001b[43m:\u001b[49m\n\u001b[32m    591\u001b[39m \u001b[43m    \u001b[49m\u001b[38;5;28;43;01mif\u001b[39;49;00m\u001b[43m \u001b[49m\u001b[43mstart\u001b[49m\u001b[43m \u001b[49m\u001b[43m==\u001b[49m\u001b[43m \u001b[49m\u001b[43mEND\u001b[49m\u001b[43m:\u001b[49m\n\u001b[32m    592\u001b[39m \u001b[43m        \u001b[49m\u001b[38;5;28;43;01mraise\u001b[39;49;00m\u001b[43m \u001b[49m\u001b[38;5;167;43;01mValueError\u001b[39;49;00m\u001b[43m(\u001b[49m\u001b[33;43m\"\u001b[39;49m\u001b[33;43mEND cannot be a start node\u001b[39;49m\u001b[33;43m\"\u001b[39;49m\u001b[43m)\u001b[49m\n",
      "\u001b[31mTypeError\u001b[39m: 'function' object is not iterable"
     ]
    }
   ],
   "source": []
  },
  {
   "cell_type": "code",
   "execution_count": null,
   "id": "4e4fdd8f",
   "metadata": {},
   "outputs": [],
   "source": []
  }
 ],
 "metadata": {
  "kernelspec": {
   "display_name": "Python (langchain-env)",
   "language": "python",
   "name": "langchain-env"
  },
  "language_info": {
   "codemirror_mode": {
    "name": "ipython",
    "version": 3
   },
   "file_extension": ".py",
   "mimetype": "text/x-python",
   "name": "python",
   "nbconvert_exporter": "python",
   "pygments_lexer": "ipython3",
   "version": "3.11.9"
  }
 },
 "nbformat": 4,
 "nbformat_minor": 5
}
